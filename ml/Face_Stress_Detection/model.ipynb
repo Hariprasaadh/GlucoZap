{
 "cells": [
  {
   "cell_type": "code",
   "execution_count": 1,
   "id": "c5f49611",
   "metadata": {},
   "outputs": [],
   "source": [
    "import os\n",
    "from ultralytics import YOLO"
   ]
  },
  {
   "cell_type": "code",
   "execution_count": 2,
   "id": "34381db8",
   "metadata": {},
   "outputs": [
    {
     "name": "stdout",
     "output_type": "stream",
     "text": [
      "loading Roboflow workspace...\n",
      "loading Roboflow project...\n"
     ]
    },
    {
     "name": "stderr",
     "output_type": "stream",
     "text": [
      "Downloading Dataset Version Zip in Dark-Circles-1 to yolov11:: 100%|██████████| 41616/41616 [00:16<00:00, 2501.13it/s]"
     ]
    },
    {
     "name": "stdout",
     "output_type": "stream",
     "text": [
      "\n"
     ]
    },
    {
     "name": "stderr",
     "output_type": "stream",
     "text": [
      "\n",
      "Extracting Dataset Version Zip to Dark-Circles-1 in yolov11:: 100%|██████████| 2240/2240 [00:00<00:00, 2723.94it/s]\n"
     ]
    }
   ],
   "source": [
    "from roboflow import Roboflow \n",
    "rf = Roboflow(api_key=\"bedbVjYj0SnIquJDBJVY\") \n",
    "project = rf.workspace(\"skin-condition-detection\").project(\"dark-circles-19mqw\") \n",
    "version = project.version(1) \n",
    "dataset = version.download(\"yolov11\")"
   ]
  },
  {
   "cell_type": "code",
   "execution_count": 3,
   "id": "4f894a46",
   "metadata": {},
   "outputs": [],
   "source": [
    "DATASET_YAML = os.path.join(\"Dark-Circles-1\", \"data.yaml\")"
   ]
  },
  {
   "cell_type": "code",
   "execution_count": 4,
   "id": "63480920",
   "metadata": {},
   "outputs": [],
   "source": [
    "MODEL_WEIGHTS = \"yolo11s.pt\"\n",
    "model = YOLO(MODEL_WEIGHTS)"
   ]
  },
  {
   "cell_type": "code",
   "execution_count": 5,
   "id": "c189fe86",
   "metadata": {},
   "outputs": [
    {
     "name": "stdout",
     "output_type": "stream",
     "text": [
      "Ultralytics 8.3.191  Python-3.9.13 torch-2.1.0+cpu \n"
     ]
    },
    {
     "ename": "ValueError",
     "evalue": "Invalid CUDA 'device=0' requested. Use 'device=cpu' or pass valid CUDA device(s) if available, i.e. 'device=0' or 'device=0,1,2,3' for Multi-GPU.\n\ntorch.cuda.is_available(): False\ntorch.cuda.device_count(): 0\nos.environ['CUDA_VISIBLE_DEVICES']: None\nSee https://pytorch.org/get-started/locally/ for up-to-date torch install instructions if no CUDA devices are seen by torch.\n",
     "output_type": "error",
     "traceback": [
      "\u001b[1;31m---------------------------------------------------------------------------\u001b[0m",
      "\u001b[1;31mValueError\u001b[0m                                Traceback (most recent call last)",
      "Cell \u001b[1;32mIn[5], line 1\u001b[0m\n\u001b[1;32m----> 1\u001b[0m \u001b[43mmodel\u001b[49m\u001b[38;5;241;43m.\u001b[39;49m\u001b[43mtrain\u001b[49m\u001b[43m(\u001b[49m\n\u001b[0;32m      2\u001b[0m \u001b[43m    \u001b[49m\u001b[43mdata\u001b[49m\u001b[38;5;241;43m=\u001b[39;49m\u001b[43mDATASET_YAML\u001b[49m\u001b[43m,\u001b[49m\n\u001b[0;32m      3\u001b[0m \u001b[43m    \u001b[49m\u001b[43mepochs\u001b[49m\u001b[38;5;241;43m=\u001b[39;49m\u001b[38;5;241;43m25\u001b[39;49m\u001b[43m,\u001b[49m\n\u001b[0;32m      4\u001b[0m \u001b[43m    \u001b[49m\u001b[43mimgsz\u001b[49m\u001b[38;5;241;43m=\u001b[39;49m\u001b[38;5;241;43m640\u001b[39;49m\u001b[43m,\u001b[49m\n\u001b[0;32m      5\u001b[0m \u001b[43m    \u001b[49m\u001b[43mbatch\u001b[49m\u001b[38;5;241;43m=\u001b[39;49m\u001b[38;5;241;43m16\u001b[39;49m\u001b[43m,\u001b[49m\n\u001b[0;32m      6\u001b[0m \u001b[43m    \u001b[49m\u001b[43mworkers\u001b[49m\u001b[38;5;241;43m=\u001b[39;49m\u001b[38;5;241;43m4\u001b[39;49m\u001b[43m,\u001b[49m\n\u001b[0;32m      7\u001b[0m \u001b[43m    \u001b[49m\u001b[43mdevice\u001b[49m\u001b[38;5;241;43m=\u001b[39;49m\u001b[38;5;241;43m0\u001b[39;49m\u001b[43m,\u001b[49m\n\u001b[0;32m      8\u001b[0m \u001b[43m    \u001b[49m\u001b[43mname\u001b[49m\u001b[38;5;241;43m=\u001b[39;49m\u001b[38;5;124;43m\"\u001b[39;49m\u001b[38;5;124;43mdark_circles_yolov11\u001b[39;49m\u001b[38;5;124;43m\"\u001b[39;49m\u001b[43m \u001b[49m\n\u001b[0;32m      9\u001b[0m \u001b[43m)\u001b[49m\n",
      "File \u001b[1;32mc:\\Users\\Dell\\gpu\\lib\\site-packages\\ultralytics\\engine\\model.py:795\u001b[0m, in \u001b[0;36mModel.train\u001b[1;34m(self, trainer, **kwargs)\u001b[0m\n\u001b[0;32m    792\u001b[0m \u001b[38;5;28;01mif\u001b[39;00m args\u001b[38;5;241m.\u001b[39mget(\u001b[38;5;124m\"\u001b[39m\u001b[38;5;124mresume\u001b[39m\u001b[38;5;124m\"\u001b[39m):\n\u001b[0;32m    793\u001b[0m     args[\u001b[38;5;124m\"\u001b[39m\u001b[38;5;124mresume\u001b[39m\u001b[38;5;124m\"\u001b[39m] \u001b[38;5;241m=\u001b[39m \u001b[38;5;28mself\u001b[39m\u001b[38;5;241m.\u001b[39mckpt_path\n\u001b[1;32m--> 795\u001b[0m \u001b[38;5;28mself\u001b[39m\u001b[38;5;241m.\u001b[39mtrainer \u001b[38;5;241m=\u001b[39m \u001b[43m(\u001b[49m\u001b[43mtrainer\u001b[49m\u001b[43m \u001b[49m\u001b[38;5;129;43;01mor\u001b[39;49;00m\u001b[43m \u001b[49m\u001b[38;5;28;43mself\u001b[39;49m\u001b[38;5;241;43m.\u001b[39;49m\u001b[43m_smart_load\u001b[49m\u001b[43m(\u001b[49m\u001b[38;5;124;43m\"\u001b[39;49m\u001b[38;5;124;43mtrainer\u001b[39;49m\u001b[38;5;124;43m\"\u001b[39;49m\u001b[43m)\u001b[49m\u001b[43m)\u001b[49m\u001b[43m(\u001b[49m\u001b[43moverrides\u001b[49m\u001b[38;5;241;43m=\u001b[39;49m\u001b[43margs\u001b[49m\u001b[43m,\u001b[49m\u001b[43m \u001b[49m\u001b[43m_callbacks\u001b[49m\u001b[38;5;241;43m=\u001b[39;49m\u001b[38;5;28;43mself\u001b[39;49m\u001b[38;5;241;43m.\u001b[39;49m\u001b[43mcallbacks\u001b[49m\u001b[43m)\u001b[49m\n\u001b[0;32m    796\u001b[0m \u001b[38;5;28;01mif\u001b[39;00m \u001b[38;5;129;01mnot\u001b[39;00m args\u001b[38;5;241m.\u001b[39mget(\u001b[38;5;124m\"\u001b[39m\u001b[38;5;124mresume\u001b[39m\u001b[38;5;124m\"\u001b[39m):  \u001b[38;5;66;03m# manually set model only if not resuming\u001b[39;00m\n\u001b[0;32m    797\u001b[0m     \u001b[38;5;28mself\u001b[39m\u001b[38;5;241m.\u001b[39mtrainer\u001b[38;5;241m.\u001b[39mmodel \u001b[38;5;241m=\u001b[39m \u001b[38;5;28mself\u001b[39m\u001b[38;5;241m.\u001b[39mtrainer\u001b[38;5;241m.\u001b[39mget_model(weights\u001b[38;5;241m=\u001b[39m\u001b[38;5;28mself\u001b[39m\u001b[38;5;241m.\u001b[39mmodel \u001b[38;5;28;01mif\u001b[39;00m \u001b[38;5;28mself\u001b[39m\u001b[38;5;241m.\u001b[39mckpt \u001b[38;5;28;01melse\u001b[39;00m \u001b[38;5;28;01mNone\u001b[39;00m, cfg\u001b[38;5;241m=\u001b[39m\u001b[38;5;28mself\u001b[39m\u001b[38;5;241m.\u001b[39mmodel\u001b[38;5;241m.\u001b[39myaml)\n",
      "File \u001b[1;32mc:\\Users\\Dell\\gpu\\lib\\site-packages\\ultralytics\\engine\\trainer.py:122\u001b[0m, in \u001b[0;36mBaseTrainer.__init__\u001b[1;34m(self, cfg, overrides, _callbacks)\u001b[0m\n\u001b[0;32m    120\u001b[0m \u001b[38;5;28mself\u001b[39m\u001b[38;5;241m.\u001b[39margs \u001b[38;5;241m=\u001b[39m get_cfg(cfg, overrides)\n\u001b[0;32m    121\u001b[0m \u001b[38;5;28mself\u001b[39m\u001b[38;5;241m.\u001b[39mcheck_resume(overrides)\n\u001b[1;32m--> 122\u001b[0m \u001b[38;5;28mself\u001b[39m\u001b[38;5;241m.\u001b[39mdevice \u001b[38;5;241m=\u001b[39m \u001b[43mselect_device\u001b[49m\u001b[43m(\u001b[49m\u001b[38;5;28;43mself\u001b[39;49m\u001b[38;5;241;43m.\u001b[39;49m\u001b[43margs\u001b[49m\u001b[38;5;241;43m.\u001b[39;49m\u001b[43mdevice\u001b[49m\u001b[43m,\u001b[49m\u001b[43m \u001b[49m\u001b[38;5;28;43mself\u001b[39;49m\u001b[38;5;241;43m.\u001b[39;49m\u001b[43margs\u001b[49m\u001b[38;5;241;43m.\u001b[39;49m\u001b[43mbatch\u001b[49m\u001b[43m)\u001b[49m\n\u001b[0;32m    123\u001b[0m \u001b[38;5;66;03m# Update \"-1\" devices so post-training val does not repeat search\u001b[39;00m\n\u001b[0;32m    124\u001b[0m \u001b[38;5;28mself\u001b[39m\u001b[38;5;241m.\u001b[39margs\u001b[38;5;241m.\u001b[39mdevice \u001b[38;5;241m=\u001b[39m os\u001b[38;5;241m.\u001b[39mgetenv(\u001b[38;5;124m\"\u001b[39m\u001b[38;5;124mCUDA_VISIBLE_DEVICES\u001b[39m\u001b[38;5;124m\"\u001b[39m) \u001b[38;5;28;01mif\u001b[39;00m \u001b[38;5;124m\"\u001b[39m\u001b[38;5;124mcuda\u001b[39m\u001b[38;5;124m\"\u001b[39m \u001b[38;5;129;01min\u001b[39;00m \u001b[38;5;28mstr\u001b[39m(\u001b[38;5;28mself\u001b[39m\u001b[38;5;241m.\u001b[39mdevice) \u001b[38;5;28;01melse\u001b[39;00m \u001b[38;5;28mstr\u001b[39m(\u001b[38;5;28mself\u001b[39m\u001b[38;5;241m.\u001b[39mdevice)\n",
      "File \u001b[1;32mc:\\Users\\Dell\\gpu\\lib\\site-packages\\ultralytics\\utils\\torch_utils.py:204\u001b[0m, in \u001b[0;36mselect_device\u001b[1;34m(device, batch, newline, verbose)\u001b[0m\n\u001b[0;32m    197\u001b[0m         LOGGER\u001b[38;5;241m.\u001b[39minfo(s)\n\u001b[0;32m    198\u001b[0m         install \u001b[38;5;241m=\u001b[39m (\n\u001b[0;32m    199\u001b[0m             \u001b[38;5;124m\"\u001b[39m\u001b[38;5;124mSee https://pytorch.org/get-started/locally/ for up-to-date torch install instructions if no \u001b[39m\u001b[38;5;124m\"\u001b[39m\n\u001b[0;32m    200\u001b[0m             \u001b[38;5;124m\"\u001b[39m\u001b[38;5;124mCUDA devices are seen by torch.\u001b[39m\u001b[38;5;130;01m\\n\u001b[39;00m\u001b[38;5;124m\"\u001b[39m\n\u001b[0;32m    201\u001b[0m             \u001b[38;5;28;01mif\u001b[39;00m torch\u001b[38;5;241m.\u001b[39mcuda\u001b[38;5;241m.\u001b[39mdevice_count() \u001b[38;5;241m==\u001b[39m \u001b[38;5;241m0\u001b[39m\n\u001b[0;32m    202\u001b[0m             \u001b[38;5;28;01melse\u001b[39;00m \u001b[38;5;124m\"\u001b[39m\u001b[38;5;124m\"\u001b[39m\n\u001b[0;32m    203\u001b[0m         )\n\u001b[1;32m--> 204\u001b[0m         \u001b[38;5;28;01mraise\u001b[39;00m \u001b[38;5;167;01mValueError\u001b[39;00m(\n\u001b[0;32m    205\u001b[0m             \u001b[38;5;124mf\u001b[39m\u001b[38;5;124m\"\u001b[39m\u001b[38;5;124mInvalid CUDA \u001b[39m\u001b[38;5;124m'\u001b[39m\u001b[38;5;124mdevice=\u001b[39m\u001b[38;5;132;01m{\u001b[39;00mdevice\u001b[38;5;132;01m}\u001b[39;00m\u001b[38;5;124m'\u001b[39m\u001b[38;5;124m requested.\u001b[39m\u001b[38;5;124m\"\u001b[39m\n\u001b[0;32m    206\u001b[0m             \u001b[38;5;124mf\u001b[39m\u001b[38;5;124m\"\u001b[39m\u001b[38;5;124m Use \u001b[39m\u001b[38;5;124m'\u001b[39m\u001b[38;5;124mdevice=cpu\u001b[39m\u001b[38;5;124m'\u001b[39m\u001b[38;5;124m or pass valid CUDA device(s) if available,\u001b[39m\u001b[38;5;124m\"\u001b[39m\n\u001b[0;32m    207\u001b[0m             \u001b[38;5;124mf\u001b[39m\u001b[38;5;124m\"\u001b[39m\u001b[38;5;124m i.e. \u001b[39m\u001b[38;5;124m'\u001b[39m\u001b[38;5;124mdevice=0\u001b[39m\u001b[38;5;124m'\u001b[39m\u001b[38;5;124m or \u001b[39m\u001b[38;5;124m'\u001b[39m\u001b[38;5;124mdevice=0,1,2,3\u001b[39m\u001b[38;5;124m'\u001b[39m\u001b[38;5;124m for Multi-GPU.\u001b[39m\u001b[38;5;130;01m\\n\u001b[39;00m\u001b[38;5;124m\"\u001b[39m\n\u001b[0;32m    208\u001b[0m             \u001b[38;5;124mf\u001b[39m\u001b[38;5;124m\"\u001b[39m\u001b[38;5;130;01m\\n\u001b[39;00m\u001b[38;5;124mtorch.cuda.is_available(): \u001b[39m\u001b[38;5;132;01m{\u001b[39;00mtorch\u001b[38;5;241m.\u001b[39mcuda\u001b[38;5;241m.\u001b[39mis_available()\u001b[38;5;132;01m}\u001b[39;00m\u001b[38;5;124m\"\u001b[39m\n\u001b[0;32m    209\u001b[0m             \u001b[38;5;124mf\u001b[39m\u001b[38;5;124m\"\u001b[39m\u001b[38;5;130;01m\\n\u001b[39;00m\u001b[38;5;124mtorch.cuda.device_count(): \u001b[39m\u001b[38;5;132;01m{\u001b[39;00mtorch\u001b[38;5;241m.\u001b[39mcuda\u001b[38;5;241m.\u001b[39mdevice_count()\u001b[38;5;132;01m}\u001b[39;00m\u001b[38;5;124m\"\u001b[39m\n\u001b[0;32m    210\u001b[0m             \u001b[38;5;124mf\u001b[39m\u001b[38;5;124m\"\u001b[39m\u001b[38;5;130;01m\\n\u001b[39;00m\u001b[38;5;124mos.environ[\u001b[39m\u001b[38;5;124m'\u001b[39m\u001b[38;5;124mCUDA_VISIBLE_DEVICES\u001b[39m\u001b[38;5;124m'\u001b[39m\u001b[38;5;124m]: \u001b[39m\u001b[38;5;132;01m{\u001b[39;00mvisible\u001b[38;5;132;01m}\u001b[39;00m\u001b[38;5;130;01m\\n\u001b[39;00m\u001b[38;5;124m\"\u001b[39m\n\u001b[0;32m    211\u001b[0m             \u001b[38;5;124mf\u001b[39m\u001b[38;5;124m\"\u001b[39m\u001b[38;5;132;01m{\u001b[39;00minstall\u001b[38;5;132;01m}\u001b[39;00m\u001b[38;5;124m\"\u001b[39m\n\u001b[0;32m    212\u001b[0m         )\n\u001b[0;32m    214\u001b[0m \u001b[38;5;28;01mif\u001b[39;00m \u001b[38;5;129;01mnot\u001b[39;00m cpu \u001b[38;5;129;01mand\u001b[39;00m \u001b[38;5;129;01mnot\u001b[39;00m mps \u001b[38;5;129;01mand\u001b[39;00m torch\u001b[38;5;241m.\u001b[39mcuda\u001b[38;5;241m.\u001b[39mis_available():  \u001b[38;5;66;03m# prefer GPU if available\u001b[39;00m\n\u001b[0;32m    215\u001b[0m     devices \u001b[38;5;241m=\u001b[39m device\u001b[38;5;241m.\u001b[39msplit(\u001b[38;5;124m\"\u001b[39m\u001b[38;5;124m,\u001b[39m\u001b[38;5;124m\"\u001b[39m) \u001b[38;5;28;01mif\u001b[39;00m device \u001b[38;5;28;01melse\u001b[39;00m \u001b[38;5;124m\"\u001b[39m\u001b[38;5;124m0\u001b[39m\u001b[38;5;124m\"\u001b[39m  \u001b[38;5;66;03m# i.e. \"0,1\" -> [\"0\", \"1\"]\u001b[39;00m\n",
      "\u001b[1;31mValueError\u001b[0m: Invalid CUDA 'device=0' requested. Use 'device=cpu' or pass valid CUDA device(s) if available, i.e. 'device=0' or 'device=0,1,2,3' for Multi-GPU.\n\ntorch.cuda.is_available(): False\ntorch.cuda.device_count(): 0\nos.environ['CUDA_VISIBLE_DEVICES']: None\nSee https://pytorch.org/get-started/locally/ for up-to-date torch install instructions if no CUDA devices are seen by torch.\n"
     ]
    }
   ],
   "source": [
    "model.train(\n",
    "    data=DATASET_YAML,\n",
    "    epochs=25,\n",
    "    imgsz=640,\n",
    "    batch=16,\n",
    "    workers=4,\n",
    "    device=0,\n",
    "    name=\"dark_circles_yolov11\" \n",
    ")"
   ]
  },
  {
   "cell_type": "code",
   "execution_count": 5,
   "id": "51f23821",
   "metadata": {},
   "outputs": [
    {
     "name": "stdout",
     "output_type": "stream",
     "text": [
      "Ultralytics 8.3.191  Python-3.9.13 torch-2.7.1+cu126 CUDA:0 (NVIDIA GeForce RTX 3050 6GB Laptop GPU, 6144MiB)\n",
      "YOLO11s summary (fused): 100 layers, 9,413,187 parameters, 0 gradients, 21.3 GFLOPs\n",
      "\u001b[34m\u001b[1mval: \u001b[0mFast image access  (ping: 0.00.0 ms, read: 598.0195.8 MB/s, size: 30.3 KB)\n",
      "\u001b[K\u001b[34m\u001b[1mval: \u001b[0mScanning C:\\Users\\Dell\\Documents\\GitHub\\GlucoZap\\ml\\eye_dark_circles\\Dark-Circles-1\\valid\\labels.cache... 258 images, 0 backgrounds, 0 corrupt: 100% ━━━━━━━━━━━━ 258/258  0.0s\n",
      "WARNING Box and segment counts should be equal, but got len(segments) = 153, len(boxes) = 402. To resolve this only boxes will be used and all segments will be removed. To avoid this please supply either a detect or segment dataset, not a detect-segment mixed dataset.\n",
      "\u001b[K                 Class     Images  Instances      Box(P          R      mAP50  mAP50-95): 100% ━━━━━━━━━━━━ 17/17 4.4it/s 3.8s0.2s\n",
      "                   all        258        402      0.685      0.713      0.731      0.303\n",
      "Speed: 0.4ms preprocess, 11.0ms inference, 0.0ms loss, 0.8ms postprocess per image\n",
      "Results saved to \u001b[1mruns\\detect\\dark_circles_yolov112\u001b[0m\n"
     ]
    }
   ],
   "source": [
    "metrics = model.val()"
   ]
  },
  {
   "cell_type": "code",
   "execution_count": 6,
   "id": "2bdbf7d8",
   "metadata": {},
   "outputs": [
    {
     "name": "stdout",
     "output_type": "stream",
     "text": [
      "\n",
      "image 1/258 c:\\Users\\Dell\\Documents\\GitHub\\GlucoZap\\ml\\eye_dark_circles\\Dark-Circles-1\\valid\\images\\00142_png_jpg.rf.a01e4ffb3c333a06d707d5de7d6022ec.jpg: 640x640 2 Puffy Eyes  - v3 Dark Circles, 12.9ms\n",
      "image 2/258 c:\\Users\\Dell\\Documents\\GitHub\\GlucoZap\\ml\\eye_dark_circles\\Dark-Circles-1\\valid\\images\\01563_png_jpg.rf.6844b46c0034568b19d10173d79ed2a9.jpg: 640x640 2 Puffy Eyes  - v3 Dark Circles, 12.1ms\n",
      "image 3/258 c:\\Users\\Dell\\Documents\\GitHub\\GlucoZap\\ml\\eye_dark_circles\\Dark-Circles-1\\valid\\images\\01629_png_jpg.rf.2f572c502d934271ce3574afb7586829.jpg: 640x640 2 Puffy Eyes  - v3 Dark Circles, 11.0ms\n",
      "image 4/258 c:\\Users\\Dell\\Documents\\GitHub\\GlucoZap\\ml\\eye_dark_circles\\Dark-Circles-1\\valid\\images\\02195_png_jpg.rf.62510a556d1245a4ffe6de72cadb6326.jpg: 640x640 1 Puffy Eyes  - v3 Dark Circle, 14.2ms\n",
      "image 5/258 c:\\Users\\Dell\\Documents\\GitHub\\GlucoZap\\ml\\eye_dark_circles\\Dark-Circles-1\\valid\\images\\101_jpg.rf.8dde66b93c148f8bd1d1102ac998c62c.jpg: 640x640 2 Puffy Eyes  - v3 Dark Circles, 13.1ms\n",
      "image 6/258 c:\\Users\\Dell\\Documents\\GitHub\\GlucoZap\\ml\\eye_dark_circles\\Dark-Circles-1\\valid\\images\\102_jpg.rf.7fdf4d491beee9b7668c17214e738c72.jpg: 640x640 1 Puffy Eyes  - v3 Dark Circle, 11.0ms\n",
      "image 7/258 c:\\Users\\Dell\\Documents\\GitHub\\GlucoZap\\ml\\eye_dark_circles\\Dark-Circles-1\\valid\\images\\1030333538_1_jpg.rf.8b634cdf05cd32f4c127b6e74d851bc9.jpg: 640x640 2 Puffy Eyes  - v3 Dark Circles, 11.3ms\n",
      "image 8/258 c:\\Users\\Dell\\Documents\\GitHub\\GlucoZap\\ml\\eye_dark_circles\\Dark-Circles-1\\valid\\images\\106_jpg.rf.1d04767e7133ad4dac936dfeb5cf0625.jpg: 640x640 2 Puffy Eyes  - v3 Dark Circles, 11.1ms\n",
      "image 9/258 c:\\Users\\Dell\\Documents\\GitHub\\GlucoZap\\ml\\eye_dark_circles\\Dark-Circles-1\\valid\\images\\108_jpg.rf.0b99d1b751e686f5cecb4f24b730a894.jpg: 640x640 1 Puffy Eyes  - v3 Dark Circle, 12.0ms\n",
      "image 10/258 c:\\Users\\Dell\\Documents\\GitHub\\GlucoZap\\ml\\eye_dark_circles\\Dark-Circles-1\\valid\\images\\10_jpg.rf.867297caabaff1bfbca7c7dec65b4ba3.jpg: 640x640 2 Puffy Eyes  - v3 Dark Circles, 12.5ms\n",
      "image 11/258 c:\\Users\\Dell\\Documents\\GitHub\\GlucoZap\\ml\\eye_dark_circles\\Dark-Circles-1\\valid\\images\\111_jpg.rf.26976b66f717d5189bdb7c746667c9a0.jpg: 640x640 (no detections), 11.6ms\n",
      "image 12/258 c:\\Users\\Dell\\Documents\\GitHub\\GlucoZap\\ml\\eye_dark_circles\\Dark-Circles-1\\valid\\images\\1129801707_1_jpg.rf.d9b75788f4e731f1f84803453ec239cb.jpg: 640x640 2 Puffy Eyes  - v3 Dark Circles, 10.6ms\n",
      "image 13/258 c:\\Users\\Dell\\Documents\\GitHub\\GlucoZap\\ml\\eye_dark_circles\\Dark-Circles-1\\valid\\images\\113_jpg.rf.e6487b0e33588f639088a62704109b03.jpg: 640x640 1 Puffy Eyes  - v3 Dark Circle, 10.6ms\n",
      "image 14/258 c:\\Users\\Dell\\Documents\\GitHub\\GlucoZap\\ml\\eye_dark_circles\\Dark-Circles-1\\valid\\images\\117_jpg.rf.b6d28bf571a6e361a6e71cc6538f81f1.jpg: 640x640 2 Puffy Eyes  - v3 Dark Circles, 10.6ms\n",
      "image 15/258 c:\\Users\\Dell\\Documents\\GitHub\\GlucoZap\\ml\\eye_dark_circles\\Dark-Circles-1\\valid\\images\\118_jpg.rf.66f4797e384471b392e041f3e152927b.jpg: 640x640 2 Puffy Eyes  - v3 Dark Circles, 10.6ms\n",
      "image 16/258 c:\\Users\\Dell\\Documents\\GitHub\\GlucoZap\\ml\\eye_dark_circles\\Dark-Circles-1\\valid\\images\\11_jpg.rf.b6684780aad518c6d5e8d025eecfeb31.jpg: 640x640 4 Puffy Eyes  - v3 Dark Circles, 10.6ms\n",
      "image 17/258 c:\\Users\\Dell\\Documents\\GitHub\\GlucoZap\\ml\\eye_dark_circles\\Dark-Circles-1\\valid\\images\\120_jpg.rf.df3f543eb66a9079e1809442e673edd1.jpg: 640x640 1 Puffy Eyes  - v3 Dark Circle, 11.3ms\n",
      "image 18/258 c:\\Users\\Dell\\Documents\\GitHub\\GlucoZap\\ml\\eye_dark_circles\\Dark-Circles-1\\valid\\images\\121_jpg.rf.eb01732aade0b161f13b3c4ca95a4dba.jpg: 640x640 2 Puffy Eyes  - v3 Dark Circles, 10.5ms\n",
      "image 19/258 c:\\Users\\Dell\\Documents\\GitHub\\GlucoZap\\ml\\eye_dark_circles\\Dark-Circles-1\\valid\\images\\122_jpg.rf.fed4f03055d9d7465015213515c69da4.jpg: 640x640 2 Puffy Eyes  - v3 Dark Circles, 10.5ms\n",
      "image 20/258 c:\\Users\\Dell\\Documents\\GitHub\\GlucoZap\\ml\\eye_dark_circles\\Dark-Circles-1\\valid\\images\\123_jpg.rf.a047544552623cf29a015e3e261469ba.jpg: 640x640 2 Puffy Eyes  - v3 Dark Circles, 12.2ms\n",
      "image 21/258 c:\\Users\\Dell\\Documents\\GitHub\\GlucoZap\\ml\\eye_dark_circles\\Dark-Circles-1\\valid\\images\\125_jpg.rf.d56522e69ea074717a1472dd93098054.jpg: 640x640 2 Puffy Eyes  - v3 Dark Circles, 10.7ms\n",
      "image 22/258 c:\\Users\\Dell\\Documents\\GitHub\\GlucoZap\\ml\\eye_dark_circles\\Dark-Circles-1\\valid\\images\\126_jpg.rf.2975265741ef5daaf03022443b2b282b.jpg: 640x640 1 Puffy Eyes  - v3 Dark Circle, 14.0ms\n",
      "image 23/258 c:\\Users\\Dell\\Documents\\GitHub\\GlucoZap\\ml\\eye_dark_circles\\Dark-Circles-1\\valid\\images\\129_jpg.rf.9734919ce37edb17c0f96ae7c9811d0f.jpg: 640x640 1 Puffy Eyes  - v3 Dark Circle, 10.6ms\n",
      "image 24/258 c:\\Users\\Dell\\Documents\\GitHub\\GlucoZap\\ml\\eye_dark_circles\\Dark-Circles-1\\valid\\images\\133_jpg.rf.7d02cad676b37e52e2531effb8559d7a.jpg: 640x640 4 Puffy Eyes  - v3 Dark Circles, 10.6ms\n",
      "image 25/258 c:\\Users\\Dell\\Documents\\GitHub\\GlucoZap\\ml\\eye_dark_circles\\Dark-Circles-1\\valid\\images\\135_jpg.rf.fa6e636d07ebcd89a5e73547eb5357ea.jpg: 640x640 2 Puffy Eyes  - v3 Dark Circles, 11.1ms\n",
      "image 26/258 c:\\Users\\Dell\\Documents\\GitHub\\GlucoZap\\ml\\eye_dark_circles\\Dark-Circles-1\\valid\\images\\136_jpg.rf.5e660312debda9aba0fbe64d56ca9ae8.jpg: 640x640 3 Puffy Eyes  - v3 Dark Circles, 11.0ms\n",
      "image 27/258 c:\\Users\\Dell\\Documents\\GitHub\\GlucoZap\\ml\\eye_dark_circles\\Dark-Circles-1\\valid\\images\\137_jpg.rf.9b4d181b271e347984fbe192a522b29b.jpg: 640x640 3 Puffy Eyes  - v3 Dark Circles, 11.1ms\n",
      "image 28/258 c:\\Users\\Dell\\Documents\\GitHub\\GlucoZap\\ml\\eye_dark_circles\\Dark-Circles-1\\valid\\images\\138_jpg.rf.e46cb5ede95f3b501eae05c829948141.jpg: 640x640 3 Puffy Eyes  - v3 Dark Circles, 11.3ms\n",
      "image 29/258 c:\\Users\\Dell\\Documents\\GitHub\\GlucoZap\\ml\\eye_dark_circles\\Dark-Circles-1\\valid\\images\\139_jpg.rf.1c045bb7df99bc97591e2630205cfb7f.jpg: 640x640 3 Puffy Eyes  - v3 Dark Circles, 11.4ms\n",
      "image 30/258 c:\\Users\\Dell\\Documents\\GitHub\\GlucoZap\\ml\\eye_dark_circles\\Dark-Circles-1\\valid\\images\\142_jpg.rf.aabd3161e108608257fd9fb065faab7b.jpg: 640x640 1 Puffy Eyes  - v3 Dark Circle, 14.4ms\n",
      "image 31/258 c:\\Users\\Dell\\Documents\\GitHub\\GlucoZap\\ml\\eye_dark_circles\\Dark-Circles-1\\valid\\images\\143_jpg.rf.49e2ebe919cca3f694c66fce1dfdbe95.jpg: 640x640 3 Puffy Eyes  - v3 Dark Circles, 14.8ms\n",
      "image 32/258 c:\\Users\\Dell\\Documents\\GitHub\\GlucoZap\\ml\\eye_dark_circles\\Dark-Circles-1\\valid\\images\\144_jpg.rf.3e2c9aa325b6eb050062204e5b219d5a.jpg: 640x640 3 Puffy Eyes  - v3 Dark Circles, 10.9ms\n",
      "image 33/258 c:\\Users\\Dell\\Documents\\GitHub\\GlucoZap\\ml\\eye_dark_circles\\Dark-Circles-1\\valid\\images\\145_jpg.rf.9bad1f1af0b761ec37d3ea6b549d0f11.jpg: 640x640 2 Puffy Eyes  - v3 Dark Circles, 14.1ms\n",
      "image 34/258 c:\\Users\\Dell\\Documents\\GitHub\\GlucoZap\\ml\\eye_dark_circles\\Dark-Circles-1\\valid\\images\\146_jpg.rf.62d10df69701234b7483c8287a38817a.jpg: 640x640 2 Puffy Eyes  - v3 Dark Circles, 13.2ms\n",
      "image 35/258 c:\\Users\\Dell\\Documents\\GitHub\\GlucoZap\\ml\\eye_dark_circles\\Dark-Circles-1\\valid\\images\\147_jpg.rf.bfc4ce064f2ad21e1e7ae754f28cf21c.jpg: 640x640 3 Puffy Eyes  - v3 Dark Circles, 10.6ms\n",
      "image 36/258 c:\\Users\\Dell\\Documents\\GitHub\\GlucoZap\\ml\\eye_dark_circles\\Dark-Circles-1\\valid\\images\\149_jpg.rf.1ca1a5f2980bd326086c2333e563868e.jpg: 640x640 2 Puffy Eyes  - v3 Dark Circles, 12.1ms\n",
      "image 37/258 c:\\Users\\Dell\\Documents\\GitHub\\GlucoZap\\ml\\eye_dark_circles\\Dark-Circles-1\\valid\\images\\150_jpg.rf.491d741a778d5e3c75bdce38365fd9ab.jpg: 640x640 3 Puffy Eyes  - v3 Dark Circles, 11.2ms\n",
      "image 38/258 c:\\Users\\Dell\\Documents\\GitHub\\GlucoZap\\ml\\eye_dark_circles\\Dark-Circles-1\\valid\\images\\151_jpg.rf.7166eb9cb2fe6a7856f72ef46cfa51fd.jpg: 640x640 2 Puffy Eyes  - v3 Dark Circles, 13.7ms\n",
      "image 39/258 c:\\Users\\Dell\\Documents\\GitHub\\GlucoZap\\ml\\eye_dark_circles\\Dark-Circles-1\\valid\\images\\152_jpg.rf.67c508a287fbe1c9049d9043c28baada.jpg: 640x640 2 Puffy Eyes  - v3 Dark Circles, 10.6ms\n",
      "image 40/258 c:\\Users\\Dell\\Documents\\GitHub\\GlucoZap\\ml\\eye_dark_circles\\Dark-Circles-1\\valid\\images\\153_jpg.rf.d14fb3d53d5874955bd6f9e25b339816.jpg: 640x640 1 Puffy Eyes  - v3 Dark Circle, 10.8ms\n",
      "image 41/258 c:\\Users\\Dell\\Documents\\GitHub\\GlucoZap\\ml\\eye_dark_circles\\Dark-Circles-1\\valid\\images\\154_jpg.rf.6f9d7a0f247fb65405afe1dee7b97f5b.jpg: 640x640 5 Puffy Eyes  - v3 Dark Circles, 11.2ms\n",
      "image 42/258 c:\\Users\\Dell\\Documents\\GitHub\\GlucoZap\\ml\\eye_dark_circles\\Dark-Circles-1\\valid\\images\\155_jpg.rf.ab70e227b3c5ac06160c0d4f7114248a.jpg: 640x640 2 Puffy Eyes  - v3 Dark Circles, 12.5ms\n",
      "image 43/258 c:\\Users\\Dell\\Documents\\GitHub\\GlucoZap\\ml\\eye_dark_circles\\Dark-Circles-1\\valid\\images\\156_jpg.rf.000ba977172d300ee61db918f0ebe8cd.jpg: 640x640 2 Puffy Eyes  - v3 Dark Circles, 10.8ms\n",
      "image 44/258 c:\\Users\\Dell\\Documents\\GitHub\\GlucoZap\\ml\\eye_dark_circles\\Dark-Circles-1\\valid\\images\\157_jpg.rf.6d05faad8f2adb8a0498e1a10afd1979.jpg: 640x640 2 Puffy Eyes  - v3 Dark Circles, 14.9ms\n",
      "image 45/258 c:\\Users\\Dell\\Documents\\GitHub\\GlucoZap\\ml\\eye_dark_circles\\Dark-Circles-1\\valid\\images\\158_jpg.rf.ea75929f5c66d236982d160dafcd0038.jpg: 640x640 1 Puffy Eyes  - v3 Dark Circle, 10.8ms\n",
      "image 46/258 c:\\Users\\Dell\\Documents\\GitHub\\GlucoZap\\ml\\eye_dark_circles\\Dark-Circles-1\\valid\\images\\159_jpg.rf.76207fe10662d1e8709921c24cb4e082.jpg: 640x640 2 Puffy Eyes  - v3 Dark Circles, 10.8ms\n",
      "image 47/258 c:\\Users\\Dell\\Documents\\GitHub\\GlucoZap\\ml\\eye_dark_circles\\Dark-Circles-1\\valid\\images\\15_jpg.rf.7f5e21533c189519f05baf925d6ce419.jpg: 640x640 3 Puffy Eyes  - v3 Dark Circles, 11.8ms\n",
      "image 48/258 c:\\Users\\Dell\\Documents\\GitHub\\GlucoZap\\ml\\eye_dark_circles\\Dark-Circles-1\\valid\\images\\160_jpg.rf.1a3c06071ccf1612cce3ae8ba7f5042d.jpg: 640x640 2 Puffy Eyes  - v3 Dark Circles, 11.3ms\n",
      "image 49/258 c:\\Users\\Dell\\Documents\\GitHub\\GlucoZap\\ml\\eye_dark_circles\\Dark-Circles-1\\valid\\images\\162_jpg.rf.8394a8736c631192e41463619fa9f5cb.jpg: 640x640 1 Puffy Eyes  - v3 Dark Circle, 10.8ms\n",
      "image 50/258 c:\\Users\\Dell\\Documents\\GitHub\\GlucoZap\\ml\\eye_dark_circles\\Dark-Circles-1\\valid\\images\\16_jpg.rf.3a841013eed06d3d7a96145baabe2365.jpg: 640x640 4 Puffy Eyes  - v3 Dark Circles, 10.6ms\n",
      "image 51/258 c:\\Users\\Dell\\Documents\\GitHub\\GlucoZap\\ml\\eye_dark_circles\\Dark-Circles-1\\valid\\images\\17_jpg.rf.95c7447bcd29077e486ea794a816f086.jpg: 640x640 (no detections), 10.9ms\n",
      "image 52/258 c:\\Users\\Dell\\Documents\\GitHub\\GlucoZap\\ml\\eye_dark_circles\\Dark-Circles-1\\valid\\images\\18_jpg.rf.3b8117f404ebfc048867b15d078592b4.jpg: 640x640 1 Puffy Eyes  - v3 Dark Circle, 10.8ms\n",
      "image 53/258 c:\\Users\\Dell\\Documents\\GitHub\\GlucoZap\\ml\\eye_dark_circles\\Dark-Circles-1\\valid\\images\\19_jpg.rf.0fd17f085c9e5cb120bf4bf8f64320e7.jpg: 640x640 2 Puffy Eyes  - v3 Dark Circles, 10.7ms\n",
      "image 54/258 c:\\Users\\Dell\\Documents\\GitHub\\GlucoZap\\ml\\eye_dark_circles\\Dark-Circles-1\\valid\\images\\1_jpg.rf.9712b1ce482e4c1f680560a0b1cf8b8d.jpg: 640x640 1 Puffy Eyes  - v3 Dark Circle, 11.0ms\n",
      "image 55/258 c:\\Users\\Dell\\Documents\\GitHub\\GlucoZap\\ml\\eye_dark_circles\\Dark-Circles-1\\valid\\images\\20_jpg.rf.5122c7b1fbce974d11ce503048085b56.jpg: 640x640 1 Puffy Eyes  - v3 Dark Circle, 12.2ms\n",
      "image 56/258 c:\\Users\\Dell\\Documents\\GitHub\\GlucoZap\\ml\\eye_dark_circles\\Dark-Circles-1\\valid\\images\\2113106881_1_jpg.rf.5fa1c52cedb6fb93847f6826cfa36433.jpg: 640x640 2 Puffy Eyes  - v3 Dark Circles, 11.1ms\n",
      "image 57/258 c:\\Users\\Dell\\Documents\\GitHub\\GlucoZap\\ml\\eye_dark_circles\\Dark-Circles-1\\valid\\images\\21_jpg.rf.1cd1204fa43c47d6ab849280e375458c.jpg: 640x640 1 Puffy Eyes  - v3 Dark Circle, 12.6ms\n",
      "image 58/258 c:\\Users\\Dell\\Documents\\GitHub\\GlucoZap\\ml\\eye_dark_circles\\Dark-Circles-1\\valid\\images\\22_jpg.rf.2c3145d596eca47f1ce9924169a67dc1.jpg: 640x640 1 Puffy Eyes  - v3 Dark Circle, 12.0ms\n",
      "image 59/258 c:\\Users\\Dell\\Documents\\GitHub\\GlucoZap\\ml\\eye_dark_circles\\Dark-Circles-1\\valid\\images\\2397008230_1_jpg.rf.8b5bdefe52b9b37fd2a4d5393fa14bb6.jpg: 640x640 2 Puffy Eyes  - v3 Dark Circles, 11.0ms\n",
      "image 60/258 c:\\Users\\Dell\\Documents\\GitHub\\GlucoZap\\ml\\eye_dark_circles\\Dark-Circles-1\\valid\\images\\240_F_203088174_Y10HdNxqyBbEFTBctiIDfMBQNO8Ze3p2_jpg.rf.568dc3ed6924a1862e826e1c02fcc67e.jpg: 640x640 2 Puffy Eyes  - v3 Dark Circles, 10.8ms\n",
      "image 61/258 c:\\Users\\Dell\\Documents\\GitHub\\GlucoZap\\ml\\eye_dark_circles\\Dark-Circles-1\\valid\\images\\240_F_504672454_jndgj2KO7RJwbd1f5qgcFFAYtOcNpOgT_jpg.rf.af5a4e1eb1f4b96fff348d9de2d54c7e.jpg: 640x640 2 Puffy Eyes  - v3 Dark Circles, 11.0ms\n",
      "image 62/258 c:\\Users\\Dell\\Documents\\GitHub\\GlucoZap\\ml\\eye_dark_circles\\Dark-Circles-1\\valid\\images\\2426631349_1_jpg.rf.0d647c03167e46d79eb869d4fd586b40.jpg: 640x640 2 Puffy Eyes  - v3 Dark Circles, 10.9ms\n",
      "image 63/258 c:\\Users\\Dell\\Documents\\GitHub\\GlucoZap\\ml\\eye_dark_circles\\Dark-Circles-1\\valid\\images\\2458204984_1_jpg.rf.b1dd4a80ab1734fb20509cef328b6a8d.jpg: 640x640 3 Puffy Eyes  - v3 Dark Circles, 10.9ms\n",
      "image 64/258 c:\\Users\\Dell\\Documents\\GitHub\\GlucoZap\\ml\\eye_dark_circles\\Dark-Circles-1\\valid\\images\\24_jpg.rf.3414fc4dc7a0252bb0e76670b619aca2.jpg: 640x640 3 Puffy Eyes  - v3 Dark Circles, 10.8ms\n",
      "image 65/258 c:\\Users\\Dell\\Documents\\GitHub\\GlucoZap\\ml\\eye_dark_circles\\Dark-Circles-1\\valid\\images\\2545132994_1_jpg.rf.a5facd1e28e3dd9afa4c4b03068621f5.jpg: 640x640 3 Puffy Eyes  - v3 Dark Circles, 10.6ms\n",
      "image 66/258 c:\\Users\\Dell\\Documents\\GitHub\\GlucoZap\\ml\\eye_dark_circles\\Dark-Circles-1\\valid\\images\\25_jpg.rf.2e881d95bb16f47352a7cfec3446ffcb.jpg: 640x640 3 Puffy Eyes  - v3 Dark Circles, 11.7ms\n",
      "image 67/258 c:\\Users\\Dell\\Documents\\GitHub\\GlucoZap\\ml\\eye_dark_circles\\Dark-Circles-1\\valid\\images\\2677149532_1_jpg.rf.125a490a0a1b05e44383ffa61f85b1f7.jpg: 640x640 2 Puffy Eyes  - v3 Dark Circles, 10.9ms\n",
      "image 68/258 c:\\Users\\Dell\\Documents\\GitHub\\GlucoZap\\ml\\eye_dark_circles\\Dark-Circles-1\\valid\\images\\26_jpg.rf.ca1b16a94b98364802610c9721201da4.jpg: 640x640 (no detections), 10.9ms\n",
      "image 69/258 c:\\Users\\Dell\\Documents\\GitHub\\GlucoZap\\ml\\eye_dark_circles\\Dark-Circles-1\\valid\\images\\2706940948_1_jpg.rf.fcaec5502f39bd1fa86225c0140bd67e.jpg: 640x640 4 Puffy Eyes  - v3 Dark Circles, 11.1ms\n",
      "image 70/258 c:\\Users\\Dell\\Documents\\GitHub\\GlucoZap\\ml\\eye_dark_circles\\Dark-Circles-1\\valid\\images\\2707642369_1_jpg.rf.7aec89b79e5a5f7cf738ebad82d55e20.jpg: 640x640 2 Puffy Eyes  - v3 Dark Circles, 11.1ms\n",
      "image 71/258 c:\\Users\\Dell\\Documents\\GitHub\\GlucoZap\\ml\\eye_dark_circles\\Dark-Circles-1\\valid\\images\\2720295826_1_jpg.rf.149a6314d9d54457f8ea39713c6c1c03.jpg: 640x640 2 Puffy Eyes  - v3 Dark Circles, 10.7ms\n",
      "image 72/258 c:\\Users\\Dell\\Documents\\GitHub\\GlucoZap\\ml\\eye_dark_circles\\Dark-Circles-1\\valid\\images\\27_jpg.rf.94b2e8e8dc0e50949d37026f2c02a222.jpg: 640x640 (no detections), 10.8ms\n",
      "image 73/258 c:\\Users\\Dell\\Documents\\GitHub\\GlucoZap\\ml\\eye_dark_circles\\Dark-Circles-1\\valid\\images\\2882152573_1_jpg.rf.1c2d943c99a1114688009598da79cb98.jpg: 640x640 2 Puffy Eyes  - v3 Dark Circles, 10.9ms\n",
      "image 74/258 c:\\Users\\Dell\\Documents\\GitHub\\GlucoZap\\ml\\eye_dark_circles\\Dark-Circles-1\\valid\\images\\28_jpg.rf.6784698d31586ab509ebe4191b151dab.jpg: 640x640 (no detections), 10.6ms\n",
      "image 75/258 c:\\Users\\Dell\\Documents\\GitHub\\GlucoZap\\ml\\eye_dark_circles\\Dark-Circles-1\\valid\\images\\2947222498_1_jpg.rf.b543a756e5e4ae7ef97bf8f5f0840fd9.jpg: 640x640 3 Puffy Eyes  - v3 Dark Circles, 11.2ms\n",
      "image 76/258 c:\\Users\\Dell\\Documents\\GitHub\\GlucoZap\\ml\\eye_dark_circles\\Dark-Circles-1\\valid\\images\\29_jpg.rf.702c5223f18fdeb29157f393ab69a2d8.jpg: 640x640 1 Puffy Eyes  - v3 Dark Circle, 10.9ms\n",
      "image 77/258 c:\\Users\\Dell\\Documents\\GitHub\\GlucoZap\\ml\\eye_dark_circles\\Dark-Circles-1\\valid\\images\\2_jpg.rf.5cdd242917cc46dcdc8b11634cb2fd1f.jpg: 640x640 2 Puffy Eyes  - v3 Dark Circles, 10.8ms\n",
      "image 78/258 c:\\Users\\Dell\\Documents\\GitHub\\GlucoZap\\ml\\eye_dark_circles\\Dark-Circles-1\\valid\\images\\30_jpg.rf.5981340b5a995a2ebe36cb12ee175248.jpg: 640x640 1 Puffy Eyes  - v3 Dark Circle, 11.0ms\n",
      "image 79/258 c:\\Users\\Dell\\Documents\\GitHub\\GlucoZap\\ml\\eye_dark_circles\\Dark-Circles-1\\valid\\images\\31_jpg.rf.9dd9754f5c33884de5ad100cc1c5652c.jpg: 640x640 2 Puffy Eyes  - v3 Dark Circles, 10.9ms\n",
      "image 80/258 c:\\Users\\Dell\\Documents\\GitHub\\GlucoZap\\ml\\eye_dark_circles\\Dark-Circles-1\\valid\\images\\32_jpg.rf.85f4a6d898b76a30eecefe772562ac2e.jpg: 640x640 2 Puffy Eyes  - v3 Dark Circles, 10.7ms\n",
      "image 81/258 c:\\Users\\Dell\\Documents\\GitHub\\GlucoZap\\ml\\eye_dark_circles\\Dark-Circles-1\\valid\\images\\34_jpg.rf.02ff782edf646391dd3ce6e9f30b223b.jpg: 640x640 2 Puffy Eyes  - v3 Dark Circles, 11.7ms\n",
      "image 82/258 c:\\Users\\Dell\\Documents\\GitHub\\GlucoZap\\ml\\eye_dark_circles\\Dark-Circles-1\\valid\\images\\36_jpg.rf.e879aee600cfb0b0d0cd8d4550324dd8.jpg: 640x640 1 Puffy Eyes  - v3 Dark Circle, 10.8ms\n",
      "image 83/258 c:\\Users\\Dell\\Documents\\GitHub\\GlucoZap\\ml\\eye_dark_circles\\Dark-Circles-1\\valid\\images\\37_jpg.rf.5e42472a5ae2fface07d4383ec19f8b3.jpg: 640x640 1 Puffy Eyes  - v3 Dark Circle, 10.9ms\n",
      "image 84/258 c:\\Users\\Dell\\Documents\\GitHub\\GlucoZap\\ml\\eye_dark_circles\\Dark-Circles-1\\valid\\images\\38_jpg.rf.65eb2adda9eaf2b1210f594ddf9aa69b.jpg: 640x640 2 Puffy Eyes  - v3 Dark Circles, 10.7ms\n",
      "image 85/258 c:\\Users\\Dell\\Documents\\GitHub\\GlucoZap\\ml\\eye_dark_circles\\Dark-Circles-1\\valid\\images\\39_jpg.rf.3e086a17277d352ad0afe6b74a7d4609.jpg: 640x640 2 Puffy Eyes  - v3 Dark Circles, 14.0ms\n",
      "image 86/258 c:\\Users\\Dell\\Documents\\GitHub\\GlucoZap\\ml\\eye_dark_circles\\Dark-Circles-1\\valid\\images\\40_jpg.rf.5b324ac51a76fe546a549b0b61e090e4.jpg: 640x640 (no detections), 10.9ms\n",
      "image 87/258 c:\\Users\\Dell\\Documents\\GitHub\\GlucoZap\\ml\\eye_dark_circles\\Dark-Circles-1\\valid\\images\\41_jpg.rf.89c743d154b0f12e1097c6778ba9e275.jpg: 640x640 2 Puffy Eyes  - v3 Dark Circles, 13.1ms\n",
      "image 88/258 c:\\Users\\Dell\\Documents\\GitHub\\GlucoZap\\ml\\eye_dark_circles\\Dark-Circles-1\\valid\\images\\42_jpg.rf.7b3cfff1905fe650f939687733060655.jpg: 640x640 2 Puffy Eyes  - v3 Dark Circles, 10.8ms\n",
      "image 89/258 c:\\Users\\Dell\\Documents\\GitHub\\GlucoZap\\ml\\eye_dark_circles\\Dark-Circles-1\\valid\\images\\43_jpg.rf.00f6020c7ccd0a664ba115aa7cd7a206.jpg: 640x640 3 Puffy Eyes  - v3 Dark Circles, 11.4ms\n",
      "image 90/258 c:\\Users\\Dell\\Documents\\GitHub\\GlucoZap\\ml\\eye_dark_circles\\Dark-Circles-1\\valid\\images\\44_jpg.rf.f47c2d855afb191086b3a86d15665cb4.jpg: 640x640 4 Puffy Eyes  - v3 Dark Circles, 10.9ms\n",
      "image 91/258 c:\\Users\\Dell\\Documents\\GitHub\\GlucoZap\\ml\\eye_dark_circles\\Dark-Circles-1\\valid\\images\\45_jpg.rf.2872b273073c343a559c3af76b173f05.jpg: 640x640 1 Puffy Eyes  - v3 Dark Circle, 10.6ms\n",
      "image 92/258 c:\\Users\\Dell\\Documents\\GitHub\\GlucoZap\\ml\\eye_dark_circles\\Dark-Circles-1\\valid\\images\\46_jpg.rf.0db667e2b2e6aa3dfd112bf248832bf1.jpg: 640x640 1 Puffy Eyes  - v3 Dark Circle, 11.2ms\n",
      "image 93/258 c:\\Users\\Dell\\Documents\\GitHub\\GlucoZap\\ml\\eye_dark_circles\\Dark-Circles-1\\valid\\images\\47_jpg.rf.2d77d0dc0a78ccd0387b81efec55609f.jpg: 640x640 2 Puffy Eyes  - v3 Dark Circles, 10.8ms\n",
      "image 94/258 c:\\Users\\Dell\\Documents\\GitHub\\GlucoZap\\ml\\eye_dark_circles\\Dark-Circles-1\\valid\\images\\48_jpg.rf.6f72ffb3fcee4dd6633e47fd75273b1f.jpg: 640x640 2 Puffy Eyes  - v3 Dark Circles, 10.8ms\n",
      "image 95/258 c:\\Users\\Dell\\Documents\\GitHub\\GlucoZap\\ml\\eye_dark_circles\\Dark-Circles-1\\valid\\images\\4_jpg.rf.0a2b22519bc8ebb789e2829e61843c95.jpg: 640x640 2 Puffy Eyes  - v3 Dark Circles, 10.6ms\n",
      "image 96/258 c:\\Users\\Dell\\Documents\\GitHub\\GlucoZap\\ml\\eye_dark_circles\\Dark-Circles-1\\valid\\images\\50_jpg.rf.b170de424bfa56a89783dca8d82173c6.jpg: 640x640 4 Puffy Eyes  - v3 Dark Circles, 11.9ms\n",
      "image 97/258 c:\\Users\\Dell\\Documents\\GitHub\\GlucoZap\\ml\\eye_dark_circles\\Dark-Circles-1\\valid\\images\\52_jpg.rf.450eec2377af4d76a6a7bcee593a54ff.jpg: 640x640 1 Puffy Eyes  - v3 Dark Circle, 10.8ms\n",
      "image 98/258 c:\\Users\\Dell\\Documents\\GitHub\\GlucoZap\\ml\\eye_dark_circles\\Dark-Circles-1\\valid\\images\\53_jpg.rf.45d6390248a481889e52d28a6a48a29c.jpg: 640x640 1 Puffy Eyes  - v3 Dark Circle, 10.5ms\n",
      "image 99/258 c:\\Users\\Dell\\Documents\\GitHub\\GlucoZap\\ml\\eye_dark_circles\\Dark-Circles-1\\valid\\images\\54_jpg.rf.b9415117e997fd2084d468e969ecdcfd.jpg: 640x640 1 Puffy Eyes  - v3 Dark Circle, 10.7ms\n",
      "image 100/258 c:\\Users\\Dell\\Documents\\GitHub\\GlucoZap\\ml\\eye_dark_circles\\Dark-Circles-1\\valid\\images\\55_jpg.rf.b686e0067a9fd4300f312b0a82be42c7.jpg: 640x640 3 Puffy Eyes  - v3 Dark Circles, 11.0ms\n",
      "image 101/258 c:\\Users\\Dell\\Documents\\GitHub\\GlucoZap\\ml\\eye_dark_circles\\Dark-Circles-1\\valid\\images\\56_jpg.rf.63198595921f289a4cc12a8040733d78.jpg: 640x640 (no detections), 11.8ms\n",
      "image 102/258 c:\\Users\\Dell\\Documents\\GitHub\\GlucoZap\\ml\\eye_dark_circles\\Dark-Circles-1\\valid\\images\\57_jpg.rf.496030ceb454639212ee04f9b1093599.jpg: 640x640 5 Puffy Eyes  - v3 Dark Circles, 10.9ms\n",
      "image 103/258 c:\\Users\\Dell\\Documents\\GitHub\\GlucoZap\\ml\\eye_dark_circles\\Dark-Circles-1\\valid\\images\\58_jpg.rf.bcb2cd2c9fbdb48ef678ade79231b032.jpg: 640x640 2 Puffy Eyes  - v3 Dark Circles, 11.3ms\n",
      "image 104/258 c:\\Users\\Dell\\Documents\\GitHub\\GlucoZap\\ml\\eye_dark_circles\\Dark-Circles-1\\valid\\images\\5_jpg.rf.ae56e91801d9861e0e95503d4aec42a3.jpg: 640x640 3 Puffy Eyes  - v3 Dark Circles, 10.5ms\n",
      "image 105/258 c:\\Users\\Dell\\Documents\\GitHub\\GlucoZap\\ml\\eye_dark_circles\\Dark-Circles-1\\valid\\images\\60_jpg.rf.c18127c1ceb25fe75cedcfee8939e720.jpg: 640x640 1 Puffy Eyes  - v3 Dark Circle, 11.0ms\n",
      "image 106/258 c:\\Users\\Dell\\Documents\\GitHub\\GlucoZap\\ml\\eye_dark_circles\\Dark-Circles-1\\valid\\images\\62_jpg.rf.a0a7e7c9d83cb304067f160a1e8ce3c0.jpg: 640x640 1 Puffy Eyes  - v3 Dark Circle, 10.7ms\n",
      "image 107/258 c:\\Users\\Dell\\Documents\\GitHub\\GlucoZap\\ml\\eye_dark_circles\\Dark-Circles-1\\valid\\images\\63_jpg.rf.2ec9ae11c6e72335b459c4031af61919.jpg: 640x640 3 Puffy Eyes  - v3 Dark Circles, 11.1ms\n",
      "image 108/258 c:\\Users\\Dell\\Documents\\GitHub\\GlucoZap\\ml\\eye_dark_circles\\Dark-Circles-1\\valid\\images\\64_jpg.rf.696f93df193cb8018aaf38997a0e71ea.jpg: 640x640 2 Puffy Eyes  - v3 Dark Circles, 10.7ms\n",
      "image 109/258 c:\\Users\\Dell\\Documents\\GitHub\\GlucoZap\\ml\\eye_dark_circles\\Dark-Circles-1\\valid\\images\\65_jpg.rf.f35eb95034eeef4891b29f3b43fb33d8.jpg: 640x640 1 Puffy Eyes  - v3 Dark Circle, 11.2ms\n",
      "image 110/258 c:\\Users\\Dell\\Documents\\GitHub\\GlucoZap\\ml\\eye_dark_circles\\Dark-Circles-1\\valid\\images\\66_jpg.rf.8406ac32cc9b80efef1f05ab0d40c907.jpg: 640x640 2 Puffy Eyes  - v3 Dark Circles, 10.7ms\n",
      "image 111/258 c:\\Users\\Dell\\Documents\\GitHub\\GlucoZap\\ml\\eye_dark_circles\\Dark-Circles-1\\valid\\images\\68_jpg.rf.25fee171c88624ffc56eab1422d018fc.jpg: 640x640 1 Puffy Eyes  - v3 Dark Circle, 10.7ms\n",
      "image 112/258 c:\\Users\\Dell\\Documents\\GitHub\\GlucoZap\\ml\\eye_dark_circles\\Dark-Circles-1\\valid\\images\\69_jpg.rf.6770df4ad1f91278db3bd7db27a6766c.jpg: 640x640 3 Puffy Eyes  - v3 Dark Circles, 11.1ms\n",
      "image 113/258 c:\\Users\\Dell\\Documents\\GitHub\\GlucoZap\\ml\\eye_dark_circles\\Dark-Circles-1\\valid\\images\\6_jpg.rf.909d22413dc2daeb7b4ef4143646dd89.jpg: 640x640 1 Puffy Eyes  - v3 Dark Circle, 10.7ms\n",
      "image 114/258 c:\\Users\\Dell\\Documents\\GitHub\\GlucoZap\\ml\\eye_dark_circles\\Dark-Circles-1\\valid\\images\\70_jpg.rf.553ad9293bf73a9edc66b8d594a4d814.jpg: 640x640 1 Puffy Eyes  - v3 Dark Circle, 10.8ms\n",
      "image 115/258 c:\\Users\\Dell\\Documents\\GitHub\\GlucoZap\\ml\\eye_dark_circles\\Dark-Circles-1\\valid\\images\\73_jpg.rf.33514da7216077569594ef03ef412536.jpg: 640x640 2 Puffy Eyes  - v3 Dark Circles, 11.0ms\n",
      "image 116/258 c:\\Users\\Dell\\Documents\\GitHub\\GlucoZap\\ml\\eye_dark_circles\\Dark-Circles-1\\valid\\images\\74_jpg.rf.97d5d76782105094769d02b1e646f02d.jpg: 640x640 6 Puffy Eyes  - v3 Dark Circles, 10.6ms\n",
      "image 117/258 c:\\Users\\Dell\\Documents\\GitHub\\GlucoZap\\ml\\eye_dark_circles\\Dark-Circles-1\\valid\\images\\77_jpg.rf.a3737282033601ba0a73a7dba3f3ad1c.jpg: 640x640 12 Puffy Eyes  - v3 Dark Circles, 10.8ms\n",
      "image 118/258 c:\\Users\\Dell\\Documents\\GitHub\\GlucoZap\\ml\\eye_dark_circles\\Dark-Circles-1\\valid\\images\\78_jpg.rf.b73056bb2a4b5d76bf62de84e0f052b5.jpg: 640x640 3 Puffy Eyes  - v3 Dark Circles, 10.5ms\n",
      "image 119/258 c:\\Users\\Dell\\Documents\\GitHub\\GlucoZap\\ml\\eye_dark_circles\\Dark-Circles-1\\valid\\images\\79_jpg.rf.6c1d37bc95c908b22e47bcc2ff1c5cc9.jpg: 640x640 2 Puffy Eyes  - v3 Dark Circles, 10.9ms\n",
      "image 120/258 c:\\Users\\Dell\\Documents\\GitHub\\GlucoZap\\ml\\eye_dark_circles\\Dark-Circles-1\\valid\\images\\7_jpg.rf.29d9eabb031bdf5b9988d290c678de72.jpg: 640x640 (no detections), 10.7ms\n",
      "image 121/258 c:\\Users\\Dell\\Documents\\GitHub\\GlucoZap\\ml\\eye_dark_circles\\Dark-Circles-1\\valid\\images\\80_jpg.rf.63a9b9eb7039ec62204c87c887165c75.jpg: 640x640 4 Puffy Eyes  - v3 Dark Circles, 10.7ms\n",
      "image 122/258 c:\\Users\\Dell\\Documents\\GitHub\\GlucoZap\\ml\\eye_dark_circles\\Dark-Circles-1\\valid\\images\\83_jpg.rf.0cc5abb090a7fefb549170c98a9e3e2e.jpg: 640x640 1 Puffy Eyes  - v3 Dark Circle, 10.6ms\n",
      "image 123/258 c:\\Users\\Dell\\Documents\\GitHub\\GlucoZap\\ml\\eye_dark_circles\\Dark-Circles-1\\valid\\images\\84_jpg.rf.fd81dcd373f2ad66804bf7f0a3afbe08.jpg: 640x640 2 Puffy Eyes  - v3 Dark Circles, 11.1ms\n",
      "image 124/258 c:\\Users\\Dell\\Documents\\GitHub\\GlucoZap\\ml\\eye_dark_circles\\Dark-Circles-1\\valid\\images\\85_jpg.rf.c42bb961595c21f0aed99dc1525fce80.jpg: 640x640 (no detections), 11.5ms\n",
      "image 125/258 c:\\Users\\Dell\\Documents\\GitHub\\GlucoZap\\ml\\eye_dark_circles\\Dark-Circles-1\\valid\\images\\86_jpg.rf.9f8707a7ff09c2d072b4b04984e17c3e.jpg: 640x640 2 Puffy Eyes  - v3 Dark Circles, 11.0ms\n",
      "image 126/258 c:\\Users\\Dell\\Documents\\GitHub\\GlucoZap\\ml\\eye_dark_circles\\Dark-Circles-1\\valid\\images\\88_jpg.rf.ff35220a35ca4d767aa8d2e5535e350b.jpg: 640x640 1 Puffy Eyes  - v3 Dark Circle, 11.0ms\n",
      "image 127/258 c:\\Users\\Dell\\Documents\\GitHub\\GlucoZap\\ml\\eye_dark_circles\\Dark-Circles-1\\valid\\images\\89_jpg.rf.0290c502ec8dff08dd3f5d3f4ff1fe56.jpg: 640x640 2 Puffy Eyes  - v3 Dark Circles, 10.9ms\n",
      "image 128/258 c:\\Users\\Dell\\Documents\\GitHub\\GlucoZap\\ml\\eye_dark_circles\\Dark-Circles-1\\valid\\images\\8_jpg.rf.05c52c47d9f938806d8437c807e11c16.jpg: 640x640 1 Puffy Eyes  - v3 Dark Circle, 11.6ms\n",
      "image 129/258 c:\\Users\\Dell\\Documents\\GitHub\\GlucoZap\\ml\\eye_dark_circles\\Dark-Circles-1\\valid\\images\\90_jpg.rf.6585f767282468bcc9355e6a6a7a61e0.jpg: 640x640 2 Puffy Eyes  - v3 Dark Circles, 10.5ms\n",
      "image 130/258 c:\\Users\\Dell\\Documents\\GitHub\\GlucoZap\\ml\\eye_dark_circles\\Dark-Circles-1\\valid\\images\\91_jpg.rf.c896449c8c5658f3e89cfe48c5e519cf.jpg: 640x640 1 Puffy Eyes  - v3 Dark Circle, 10.6ms\n",
      "image 131/258 c:\\Users\\Dell\\Documents\\GitHub\\GlucoZap\\ml\\eye_dark_circles\\Dark-Circles-1\\valid\\images\\95_jpg.rf.15677b6c63f4bf6c0e6a62db3740e78f.jpg: 640x640 1 Puffy Eyes  - v3 Dark Circle, 11.5ms\n",
      "image 132/258 c:\\Users\\Dell\\Documents\\GitHub\\GlucoZap\\ml\\eye_dark_circles\\Dark-Circles-1\\valid\\images\\96_jpg.rf.51dc8703b97d814a47c6fcdf99102cae.jpg: 640x640 1 Puffy Eyes  - v3 Dark Circle, 10.7ms\n",
      "image 133/258 c:\\Users\\Dell\\Documents\\GitHub\\GlucoZap\\ml\\eye_dark_circles\\Dark-Circles-1\\valid\\images\\99_jpg.rf.2aa8ab6211c456954d3f0e71f83c98c9.jpg: 640x640 1 Puffy Eyes  - v3 Dark Circle, 10.6ms\n",
      "image 134/258 c:\\Users\\Dell\\Documents\\GitHub\\GlucoZap\\ml\\eye_dark_circles\\Dark-Circles-1\\valid\\images\\9_jpg.rf.072595d09008a50ce36720482f695f2e.jpg: 640x640 (no detections), 11.1ms\n",
      "image 135/258 c:\\Users\\Dell\\Documents\\GitHub\\GlucoZap\\ml\\eye_dark_circles\\Dark-Circles-1\\valid\\images\\Image_103_jpg.rf.052186fbbfb07f37ecb9de246a1277b7.jpg: 640x640 (no detections), 10.7ms\n",
      "image 136/258 c:\\Users\\Dell\\Documents\\GitHub\\GlucoZap\\ml\\eye_dark_circles\\Dark-Circles-1\\valid\\images\\Image_106_jpg.rf.008060227930ff8e1041d823dc3e5e4b.jpg: 640x640 2 Puffy Eyes  - v3 Dark Circles, 10.7ms\n",
      "image 137/258 c:\\Users\\Dell\\Documents\\GitHub\\GlucoZap\\ml\\eye_dark_circles\\Dark-Circles-1\\valid\\images\\Image_108_jpg.rf.527bce9eea5cca74ffe25f89068228d6.jpg: 640x640 3 Puffy Eyes  - v3 Dark Circles, 10.7ms\n",
      "image 138/258 c:\\Users\\Dell\\Documents\\GitHub\\GlucoZap\\ml\\eye_dark_circles\\Dark-Circles-1\\valid\\images\\Image_110_jpg.rf.7f55223c9868d4eba3a81fcd5eec97d1.jpg: 640x640 (no detections), 11.2ms\n",
      "image 139/258 c:\\Users\\Dell\\Documents\\GitHub\\GlucoZap\\ml\\eye_dark_circles\\Dark-Circles-1\\valid\\images\\Image_118_jpg.rf.7cde6705eba2d92f31737c85b817b745.jpg: 640x640 1 Puffy Eyes  - v3 Dark Circle, 12.3ms\n",
      "image 140/258 c:\\Users\\Dell\\Documents\\GitHub\\GlucoZap\\ml\\eye_dark_circles\\Dark-Circles-1\\valid\\images\\Image_119_jpg.rf.9a3f3399c9be5d904aa78cb25b15ab89.jpg: 640x640 4 Puffy Eyes  - v3 Dark Circles, 11.0ms\n",
      "image 141/258 c:\\Users\\Dell\\Documents\\GitHub\\GlucoZap\\ml\\eye_dark_circles\\Dark-Circles-1\\valid\\images\\Image_123_jpg.rf.aa03ab519bc07537c91e47373bfdd9ec.jpg: 640x640 7 Puffy Eyes  - v3 Dark Circles, 10.7ms\n",
      "image 142/258 c:\\Users\\Dell\\Documents\\GitHub\\GlucoZap\\ml\\eye_dark_circles\\Dark-Circles-1\\valid\\images\\Image_124_jpg.rf.cb136969cd1b22648fb64c5eb5d8acf8.jpg: 640x640 12 Puffy Eyes  - v3 Dark Circles, 16.4ms\n",
      "image 143/258 c:\\Users\\Dell\\Documents\\GitHub\\GlucoZap\\ml\\eye_dark_circles\\Dark-Circles-1\\valid\\images\\Image_132_jpg.rf.c1c7496ec2e2e0f97b349c5b0ff60d94.jpg: 640x640 2 Puffy Eyes  - v3 Dark Circles, 10.7ms\n",
      "image 144/258 c:\\Users\\Dell\\Documents\\GitHub\\GlucoZap\\ml\\eye_dark_circles\\Dark-Circles-1\\valid\\images\\Image_136_jpg.rf.98b7985c52b9800e636d6615d4f54ba2.jpg: 640x640 2 Puffy Eyes  - v3 Dark Circles, 10.8ms\n",
      "image 145/258 c:\\Users\\Dell\\Documents\\GitHub\\GlucoZap\\ml\\eye_dark_circles\\Dark-Circles-1\\valid\\images\\Image_140_jpg.rf.ca660faaf191b4f4d3c592a7dca013f8.jpg: 640x640 2 Puffy Eyes  - v3 Dark Circles, 11.0ms\n",
      "image 146/258 c:\\Users\\Dell\\Documents\\GitHub\\GlucoZap\\ml\\eye_dark_circles\\Dark-Circles-1\\valid\\images\\Image_145_jpg.rf.f4a2125d55b1a0e66acd566e1612ec56.jpg: 640x640 3 Puffy Eyes  - v3 Dark Circles, 10.9ms\n",
      "image 147/258 c:\\Users\\Dell\\Documents\\GitHub\\GlucoZap\\ml\\eye_dark_circles\\Dark-Circles-1\\valid\\images\\Image_152_jpg.rf.4bf9ab66275e343c9811e701479b9354.jpg: 640x640 3 Puffy Eyes  - v3 Dark Circles, 10.7ms\n",
      "image 148/258 c:\\Users\\Dell\\Documents\\GitHub\\GlucoZap\\ml\\eye_dark_circles\\Dark-Circles-1\\valid\\images\\Image_162_jpg.rf.15a3c2c7ec4f9e406d9c71afaeeeab63.jpg: 640x640 3 Puffy Eyes  - v3 Dark Circles, 11.1ms\n",
      "image 149/258 c:\\Users\\Dell\\Documents\\GitHub\\GlucoZap\\ml\\eye_dark_circles\\Dark-Circles-1\\valid\\images\\Image_168_jpg.rf.19938e1793ebd9896f4081c9c138e030.jpg: 640x640 (no detections), 11.1ms\n",
      "image 150/258 c:\\Users\\Dell\\Documents\\GitHub\\GlucoZap\\ml\\eye_dark_circles\\Dark-Circles-1\\valid\\images\\Image_169_jpg.rf.726ee8e2c209d7126f1242fe8c073838.jpg: 640x640 2 Puffy Eyes  - v3 Dark Circles, 10.7ms\n",
      "image 151/258 c:\\Users\\Dell\\Documents\\GitHub\\GlucoZap\\ml\\eye_dark_circles\\Dark-Circles-1\\valid\\images\\Image_173_jpg.rf.f4bee4aae07145decc3a15a4c223fe8c.jpg: 640x640 1 Puffy Eyes  - v3 Dark Circle, 11.4ms\n",
      "image 152/258 c:\\Users\\Dell\\Documents\\GitHub\\GlucoZap\\ml\\eye_dark_circles\\Dark-Circles-1\\valid\\images\\Image_176_png_jpg.rf.0cce9f8d690bf0bacc270055f0e1a3c1.jpg: 640x640 1 Puffy Eyes  - v3 Dark Circle, 10.9ms\n",
      "image 153/258 c:\\Users\\Dell\\Documents\\GitHub\\GlucoZap\\ml\\eye_dark_circles\\Dark-Circles-1\\valid\\images\\Image_185_jpg.rf.7e52084b0f94f345a995f62e44a5f082.jpg: 640x640 1 Puffy Eyes  - v3 Dark Circle, 10.7ms\n",
      "image 154/258 c:\\Users\\Dell\\Documents\\GitHub\\GlucoZap\\ml\\eye_dark_circles\\Dark-Circles-1\\valid\\images\\Image_203_jpg.rf.d1e8c1730eb80fb1777525cd4964abf7.jpg: 640x640 3 Puffy Eyes  - v3 Dark Circles, 11.5ms\n",
      "image 155/258 c:\\Users\\Dell\\Documents\\GitHub\\GlucoZap\\ml\\eye_dark_circles\\Dark-Circles-1\\valid\\images\\Image_204_jpg.rf.9710e0787ea951b4085be7d962fc39c2.jpg: 640x640 2 Puffy Eyes  - v3 Dark Circles, 11.8ms\n",
      "image 156/258 c:\\Users\\Dell\\Documents\\GitHub\\GlucoZap\\ml\\eye_dark_circles\\Dark-Circles-1\\valid\\images\\Image_206_jpg.rf.f7dc30ca8e65b294e76099310e67740e.jpg: 640x640 (no detections), 15.3ms\n",
      "image 157/258 c:\\Users\\Dell\\Documents\\GitHub\\GlucoZap\\ml\\eye_dark_circles\\Dark-Circles-1\\valid\\images\\Image_210_jpg.rf.04c380e924b2b8a8f8b40f5155c02be4.jpg: 640x640 (no detections), 11.3ms\n",
      "image 158/258 c:\\Users\\Dell\\Documents\\GitHub\\GlucoZap\\ml\\eye_dark_circles\\Dark-Circles-1\\valid\\images\\Image_211_png_jpg.rf.4c5d25dcde1938ecac17ff47a7bb770e.jpg: 640x640 1 Puffy Eyes  - v3 Dark Circle, 10.7ms\n",
      "image 159/258 c:\\Users\\Dell\\Documents\\GitHub\\GlucoZap\\ml\\eye_dark_circles\\Dark-Circles-1\\valid\\images\\Image_212_jpg.rf.09cf4af82a80509e69a175995193e822.jpg: 640x640 1 Puffy Eyes  - v3 Dark Circle, 11.4ms\n",
      "image 160/258 c:\\Users\\Dell\\Documents\\GitHub\\GlucoZap\\ml\\eye_dark_circles\\Dark-Circles-1\\valid\\images\\Image_216_jpg.rf.d0997b5f509ef8403a63b1bb3d5e7ae2.jpg: 640x640 1 Puffy Eyes  - v3 Dark Circle, 11.1ms\n",
      "image 161/258 c:\\Users\\Dell\\Documents\\GitHub\\GlucoZap\\ml\\eye_dark_circles\\Dark-Circles-1\\valid\\images\\Image_217_jpg.rf.5fa845b147610e2afaeb78a06ab61ffd.jpg: 640x640 (no detections), 11.3ms\n",
      "image 162/258 c:\\Users\\Dell\\Documents\\GitHub\\GlucoZap\\ml\\eye_dark_circles\\Dark-Circles-1\\valid\\images\\Image_220_jpg.rf.801f66215310dbea53ce7612090bf690.jpg: 640x640 (no detections), 12.4ms\n",
      "image 163/258 c:\\Users\\Dell\\Documents\\GitHub\\GlucoZap\\ml\\eye_dark_circles\\Dark-Circles-1\\valid\\images\\Image_225_jpg.rf.73bf0edbdc8ed9a694479ca0d96df936.jpg: 640x640 2 Puffy Eyes  - v3 Dark Circles, 12.4ms\n",
      "image 164/258 c:\\Users\\Dell\\Documents\\GitHub\\GlucoZap\\ml\\eye_dark_circles\\Dark-Circles-1\\valid\\images\\Image_227_jpg.rf.d1558e4a440bfb183ab3fb1e977300e9.jpg: 640x640 (no detections), 14.3ms\n",
      "image 165/258 c:\\Users\\Dell\\Documents\\GitHub\\GlucoZap\\ml\\eye_dark_circles\\Dark-Circles-1\\valid\\images\\Image_259_jpg.rf.f04ccaf2ad5ab22717d75678c033fede.jpg: 640x640 3 Puffy Eyes  - v3 Dark Circles, 11.2ms\n",
      "image 166/258 c:\\Users\\Dell\\Documents\\GitHub\\GlucoZap\\ml\\eye_dark_circles\\Dark-Circles-1\\valid\\images\\Image_261_jpg.rf.5820c12e90335ea222c4758bf84d81ca.jpg: 640x640 2 Puffy Eyes  - v3 Dark Circles, 10.9ms\n",
      "image 167/258 c:\\Users\\Dell\\Documents\\GitHub\\GlucoZap\\ml\\eye_dark_circles\\Dark-Circles-1\\valid\\images\\Image_268_jpg.rf.89185745c0f913eb78775e275cd0fb9e.jpg: 640x640 2 Puffy Eyes  - v3 Dark Circles, 12.0ms\n",
      "image 168/258 c:\\Users\\Dell\\Documents\\GitHub\\GlucoZap\\ml\\eye_dark_circles\\Dark-Circles-1\\valid\\images\\Image_270_jpg.rf.efbc09fa5faf2caef804216a3a5e04fc.jpg: 640x640 (no detections), 12.8ms\n",
      "image 169/258 c:\\Users\\Dell\\Documents\\GitHub\\GlucoZap\\ml\\eye_dark_circles\\Dark-Circles-1\\valid\\images\\Image_271_jpg.rf.6bf303d99841aa9d5f2d7bb4fb204074.jpg: 640x640 3 Puffy Eyes  - v3 Dark Circles, 10.7ms\n",
      "image 170/258 c:\\Users\\Dell\\Documents\\GitHub\\GlucoZap\\ml\\eye_dark_circles\\Dark-Circles-1\\valid\\images\\Image_276_jpg.rf.e347657be5fc580f4302d7bc5e97dbca.jpg: 640x640 (no detections), 11.8ms\n",
      "image 171/258 c:\\Users\\Dell\\Documents\\GitHub\\GlucoZap\\ml\\eye_dark_circles\\Dark-Circles-1\\valid\\images\\Image_27_jpg.rf.30a4e9b37fd9995adef3653a0df3d528.jpg: 640x640 1 Puffy Eyes  - v3 Dark Circle, 11.3ms\n",
      "image 172/258 c:\\Users\\Dell\\Documents\\GitHub\\GlucoZap\\ml\\eye_dark_circles\\Dark-Circles-1\\valid\\images\\Image_281_jpg.rf.eac1af5d8ce39e3916ab842c7f0d8a70.jpg: 640x640 1 Puffy Eyes  - v3 Dark Circle, 10.8ms\n",
      "image 173/258 c:\\Users\\Dell\\Documents\\GitHub\\GlucoZap\\ml\\eye_dark_circles\\Dark-Circles-1\\valid\\images\\Image_291_png_jpg.rf.50b3fd12aa04ab61b81dc4d24f5e9777.jpg: 640x640 (no detections), 10.7ms\n",
      "image 174/258 c:\\Users\\Dell\\Documents\\GitHub\\GlucoZap\\ml\\eye_dark_circles\\Dark-Circles-1\\valid\\images\\Image_292-Copy_jpg.rf.7eaaa631085866ec6d6a54d6fcde0238.jpg: 640x640 (no detections), 11.9ms\n",
      "image 175/258 c:\\Users\\Dell\\Documents\\GitHub\\GlucoZap\\ml\\eye_dark_circles\\Dark-Circles-1\\valid\\images\\Image_29_jpg.rf.37403c858c0b5fbc42473ea175206025.jpg: 640x640 2 Puffy Eyes  - v3 Dark Circles, 11.1ms\n",
      "image 176/258 c:\\Users\\Dell\\Documents\\GitHub\\GlucoZap\\ml\\eye_dark_circles\\Dark-Circles-1\\valid\\images\\Image_30_jpg.rf.b5848f14d3ff4ee55f315667e343aa26.jpg: 640x640 1 Puffy Eyes  - v3 Dark Circle, 15.9ms\n",
      "image 177/258 c:\\Users\\Dell\\Documents\\GitHub\\GlucoZap\\ml\\eye_dark_circles\\Dark-Circles-1\\valid\\images\\Image_43_jpg.rf.154e582b7436290dd1ced212ae7cc4a7.jpg: 640x640 (no detections), 13.9ms\n",
      "image 178/258 c:\\Users\\Dell\\Documents\\GitHub\\GlucoZap\\ml\\eye_dark_circles\\Dark-Circles-1\\valid\\images\\Image_48_jpg.rf.31691b9444fab96e5c27c539c5633f40.jpg: 640x640 1 Puffy Eyes  - v3 Dark Circle, 10.9ms\n",
      "image 179/258 c:\\Users\\Dell\\Documents\\GitHub\\GlucoZap\\ml\\eye_dark_circles\\Dark-Circles-1\\valid\\images\\Image_53_jpg.rf.45e2ee7fed9c5e7ffdffe067499b0f56.jpg: 640x640 3 Puffy Eyes  - v3 Dark Circles, 11.3ms\n",
      "image 180/258 c:\\Users\\Dell\\Documents\\GitHub\\GlucoZap\\ml\\eye_dark_circles\\Dark-Circles-1\\valid\\images\\Image_54_jpg.rf.c84356b8f0f09d021c1faff0c9581cfc.jpg: 640x640 3 Puffy Eyes  - v3 Dark Circles, 11.1ms\n",
      "image 181/258 c:\\Users\\Dell\\Documents\\GitHub\\GlucoZap\\ml\\eye_dark_circles\\Dark-Circles-1\\valid\\images\\Image_55_jpg.rf.4f3a983131d9aa72b8701eaa9127f094.jpg: 640x640 1 Puffy Eyes  - v3 Dark Circle, 12.6ms\n",
      "image 182/258 c:\\Users\\Dell\\Documents\\GitHub\\GlucoZap\\ml\\eye_dark_circles\\Dark-Circles-1\\valid\\images\\Image_62_jpg.rf.f8e640c4c2198233f48058628eef001f.jpg: 640x640 8 Puffy Eyes  - v3 Dark Circles, 10.9ms\n",
      "image 183/258 c:\\Users\\Dell\\Documents\\GitHub\\GlucoZap\\ml\\eye_dark_circles\\Dark-Circles-1\\valid\\images\\Image_65_jpg.rf.f319d70f2898eee18af0ec4137aeff97.jpg: 640x640 2 Puffy Eyes  - v3 Dark Circles, 11.9ms\n",
      "image 184/258 c:\\Users\\Dell\\Documents\\GitHub\\GlucoZap\\ml\\eye_dark_circles\\Dark-Circles-1\\valid\\images\\Image_66_jpg.rf.380c484cd27f0a6244c743548391a4eb.jpg: 640x640 2 Puffy Eyes  - v3 Dark Circles, 10.9ms\n",
      "image 185/258 c:\\Users\\Dell\\Documents\\GitHub\\GlucoZap\\ml\\eye_dark_circles\\Dark-Circles-1\\valid\\images\\Image_68_jpg.rf.e267413ce6088415c9090a0cf7b0c32e.jpg: 640x640 (no detections), 13.1ms\n",
      "image 186/258 c:\\Users\\Dell\\Documents\\GitHub\\GlucoZap\\ml\\eye_dark_circles\\Dark-Circles-1\\valid\\images\\Image_69_jpg.rf.61786da2071cbb262e2962042feb2438.jpg: 640x640 1 Puffy Eyes  - v3 Dark Circle, 10.9ms\n",
      "image 187/258 c:\\Users\\Dell\\Documents\\GitHub\\GlucoZap\\ml\\eye_dark_circles\\Dark-Circles-1\\valid\\images\\Image_6_jpg.rf.ca419a6afce2b9a71408ca8bc3ce693f.jpg: 640x640 2 Puffy Eyes  - v3 Dark Circles, 15.5ms\n",
      "image 188/258 c:\\Users\\Dell\\Documents\\GitHub\\GlucoZap\\ml\\eye_dark_circles\\Dark-Circles-1\\valid\\images\\Image_70_jpg.rf.865b91286da319eb7f447c03b797e33b.jpg: 640x640 3 Puffy Eyes  - v3 Dark Circles, 11.2ms\n",
      "image 189/258 c:\\Users\\Dell\\Documents\\GitHub\\GlucoZap\\ml\\eye_dark_circles\\Dark-Circles-1\\valid\\images\\Image_71_jpg.rf.2a22b30c82673c403ee5047ab34fa262.jpg: 640x640 (no detections), 11.1ms\n",
      "image 190/258 c:\\Users\\Dell\\Documents\\GitHub\\GlucoZap\\ml\\eye_dark_circles\\Dark-Circles-1\\valid\\images\\Image_73_jpg.rf.716cec9d56312d2c8179dae7464856fd.jpg: 640x640 (no detections), 11.0ms\n",
      "image 191/258 c:\\Users\\Dell\\Documents\\GitHub\\GlucoZap\\ml\\eye_dark_circles\\Dark-Circles-1\\valid\\images\\Image_74_jpg.rf.187ed592f4d379cfdc7b3e432f5cc090.jpg: 640x640 2 Puffy Eyes  - v3 Dark Circles, 11.4ms\n",
      "image 192/258 c:\\Users\\Dell\\Documents\\GitHub\\GlucoZap\\ml\\eye_dark_circles\\Dark-Circles-1\\valid\\images\\Image_77_jpg.rf.ea293d0fefacf09a3c4574db96055c21.jpg: 640x640 3 Puffy Eyes  - v3 Dark Circles, 11.1ms\n",
      "image 193/258 c:\\Users\\Dell\\Documents\\GitHub\\GlucoZap\\ml\\eye_dark_circles\\Dark-Circles-1\\valid\\images\\Image_7_jpg.rf.9d8bef689f9681b084946b53ca3106fc.jpg: 640x640 1 Puffy Eyes  - v3 Dark Circle, 11.3ms\n",
      "image 194/258 c:\\Users\\Dell\\Documents\\GitHub\\GlucoZap\\ml\\eye_dark_circles\\Dark-Circles-1\\valid\\images\\Image_81_jpg.rf.3b1bd5ef0f934c0341b10176ac7450c6.jpg: 640x640 2 Puffy Eyes  - v3 Dark Circles, 20.4ms\n",
      "image 195/258 c:\\Users\\Dell\\Documents\\GitHub\\GlucoZap\\ml\\eye_dark_circles\\Dark-Circles-1\\valid\\images\\Image_82_jpg.rf.a77adef62ae140619147da44f3b4b302.jpg: 640x640 4 Puffy Eyes  - v3 Dark Circles, 10.7ms\n",
      "image 196/258 c:\\Users\\Dell\\Documents\\GitHub\\GlucoZap\\ml\\eye_dark_circles\\Dark-Circles-1\\valid\\images\\Image_89_jpg.rf.28db8a4663b8444f77c07a94d2bf56ee.jpg: 640x640 1 Puffy Eyes  - v3 Dark Circle, 11.1ms\n",
      "image 197/258 c:\\Users\\Dell\\Documents\\GitHub\\GlucoZap\\ml\\eye_dark_circles\\Dark-Circles-1\\valid\\images\\Img_32_png_jpg.rf.21ce85351b925cd9e1ffc88379f82f81.jpg: 640x640 1 Puffy Eyes  - v3 Dark Circle, 11.8ms\n",
      "image 198/258 c:\\Users\\Dell\\Documents\\GitHub\\GlucoZap\\ml\\eye_dark_circles\\Dark-Circles-1\\valid\\images\\Img_82_jpg.rf.2856015590c913c861610eb32a2759bb.jpg: 640x640 2 Puffy Eyes  - v3 Dark Circles, 14.0ms\n",
      "image 199/258 c:\\Users\\Dell\\Documents\\GitHub\\GlucoZap\\ml\\eye_dark_circles\\Dark-Circles-1\\valid\\images\\Screenshot_27_png_jpg.rf.018226f6a212565d829ddc990c5ef9bc.jpg: 640x640 2 Puffy Eyes  - v3 Dark Circles, 11.2ms\n",
      "image 200/258 c:\\Users\\Dell\\Documents\\GitHub\\GlucoZap\\ml\\eye_dark_circles\\Dark-Circles-1\\valid\\images\\Screenshot_29_png_jpg.rf.1a0ca14355bbe221d30df20aeda591cf.jpg: 640x640 2 Puffy Eyes  - v3 Dark Circles, 11.2ms\n",
      "image 201/258 c:\\Users\\Dell\\Documents\\GitHub\\GlucoZap\\ml\\eye_dark_circles\\Dark-Circles-1\\valid\\images\\Screenshot_43_png_jpg.rf.6514f1a2265a035a02479797a8d78ccd.jpg: 640x640 2 Puffy Eyes  - v3 Dark Circles, 13.5ms\n",
      "image 202/258 c:\\Users\\Dell\\Documents\\GitHub\\GlucoZap\\ml\\eye_dark_circles\\Dark-Circles-1\\valid\\images\\Screenshot_55_png_jpg.rf.ac01f4d501cb3197cf68c5e08562e208.jpg: 640x640 2 Puffy Eyes  - v3 Dark Circles, 11.1ms\n",
      "image 203/258 c:\\Users\\Dell\\Documents\\GitHub\\GlucoZap\\ml\\eye_dark_circles\\Dark-Circles-1\\valid\\images\\Screenshot_60_png_jpg.rf.9685ca9b89b9f5688071b1b0f3bf7f84.jpg: 640x640 2 Puffy Eyes  - v3 Dark Circles, 11.6ms\n",
      "image 204/258 c:\\Users\\Dell\\Documents\\GitHub\\GlucoZap\\ml\\eye_dark_circles\\Dark-Circles-1\\valid\\images\\Screenshot_70_png_jpg.rf.c72197dca4f5fbeb0f03709c41829f35.jpg: 640x640 2 Puffy Eyes  - v3 Dark Circles, 11.0ms\n",
      "image 205/258 c:\\Users\\Dell\\Documents\\GitHub\\GlucoZap\\ml\\eye_dark_circles\\Dark-Circles-1\\valid\\images\\_1568378756933_jpg.rf.9b745d87f92c5c4f7a0bb86ed3ec0e4a.jpg: 640x640 2 Puffy Eyes  - v3 Dark Circles, 14.5ms\n",
      "image 206/258 c:\\Users\\Dell\\Documents\\GitHub\\GlucoZap\\ml\\eye_dark_circles\\Dark-Circles-1\\valid\\images\\_1568464946623_jpg.rf.eada29e11f2befd5fef94777471cfd24.jpg: 640x640 3 Puffy Eyes  - v3 Dark Circles, 11.2ms\n",
      "image 207/258 c:\\Users\\Dell\\Documents\\GitHub\\GlucoZap\\ml\\eye_dark_circles\\Dark-Circles-1\\valid\\images\\_1568465865512_jpg.rf.9587f9d02e30ba5cb94fc25a52c8ed7f.jpg: 640x640 2 Puffy Eyes  - v3 Dark Circles, 11.4ms\n",
      "image 208/258 c:\\Users\\Dell\\Documents\\GitHub\\GlucoZap\\ml\\eye_dark_circles\\Dark-Circles-1\\valid\\images\\_1568481367738_jpg.rf.39ea0f8d1ffd4c2a948eada5953c8fec.jpg: 640x640 3 Puffy Eyes  - v3 Dark Circles, 11.2ms\n",
      "image 209/258 c:\\Users\\Dell\\Documents\\GitHub\\GlucoZap\\ml\\eye_dark_circles\\Dark-Circles-1\\valid\\images\\_1569497323062_jpg.rf.4cac2eb619d91740b1b9ae3af94167b8.jpg: 640x640 2 Puffy Eyes  - v3 Dark Circles, 10.9ms\n",
      "image 210/258 c:\\Users\\Dell\\Documents\\GitHub\\GlucoZap\\ml\\eye_dark_circles\\Dark-Circles-1\\valid\\images\\_1573298163994_jpg.rf.ea716d2af3a54a2427e1c1562afaf273.jpg: 640x640 2 Puffy Eyes  - v3 Dark Circles, 11.0ms\n",
      "image 211/258 c:\\Users\\Dell\\Documents\\GitHub\\GlucoZap\\ml\\eye_dark_circles\\Dark-Circles-1\\valid\\images\\_1573369318894_jpg.rf.49d7e081fae015cbd12af98f1b10f726.jpg: 640x640 2 Puffy Eyes  - v3 Dark Circles, 11.1ms\n",
      "image 212/258 c:\\Users\\Dell\\Documents\\GitHub\\GlucoZap\\ml\\eye_dark_circles\\Dark-Circles-1\\valid\\images\\_1574497670422_jpg.rf.5f1531abd921b8546a66d7b5d762f265.jpg: 640x640 3 Puffy Eyes  - v3 Dark Circles, 11.5ms\n",
      "image 213/258 c:\\Users\\Dell\\Documents\\GitHub\\GlucoZap\\ml\\eye_dark_circles\\Dark-Circles-1\\valid\\images\\_1574506418942_jpg.rf.c460804e85cc9d26d737d31f67ae6496.jpg: 640x640 1 Puffy Eyes  - v3 Dark Circle, 13.1ms\n",
      "image 214/258 c:\\Users\\Dell\\Documents\\GitHub\\GlucoZap\\ml\\eye_dark_circles\\Dark-Circles-1\\valid\\images\\_1574507503758_jpg.rf.c35a5afc295c476a5f356117824a1eca.jpg: 640x640 2 Puffy Eyes  - v3 Dark Circles, 10.9ms\n",
      "image 215/258 c:\\Users\\Dell\\Documents\\GitHub\\GlucoZap\\ml\\eye_dark_circles\\Dark-Circles-1\\valid\\images\\_1574591353912_jpg.rf.5a8546f0cba91e2a32f3c479febb7f57.jpg: 640x640 2 Puffy Eyes  - v3 Dark Circles, 10.9ms\n",
      "image 216/258 c:\\Users\\Dell\\Documents\\GitHub\\GlucoZap\\ml\\eye_dark_circles\\Dark-Circles-1\\valid\\images\\_1574675411395_jpg.rf.12c205362d19959f2eb20f3f27b3cb76.jpg: 640x640 2 Puffy Eyes  - v3 Dark Circles, 11.1ms\n",
      "image 217/258 c:\\Users\\Dell\\Documents\\GitHub\\GlucoZap\\ml\\eye_dark_circles\\Dark-Circles-1\\valid\\images\\_1575114063140_jpg.rf.69792960999fcec6acff0cedeb6687fa.jpg: 640x640 2 Puffy Eyes  - v3 Dark Circles, 11.1ms\n",
      "image 218/258 c:\\Users\\Dell\\Documents\\GitHub\\GlucoZap\\ml\\eye_dark_circles\\Dark-Circles-1\\valid\\images\\_1576221106783_jpg.rf.30734756d3c8cfb7998c1cdaa0b6626a.jpg: 640x640 2 Puffy Eyes  - v3 Dark Circles, 11.3ms\n",
      "image 219/258 c:\\Users\\Dell\\Documents\\GitHub\\GlucoZap\\ml\\eye_dark_circles\\Dark-Circles-1\\valid\\images\\_1576729958498_jpg.rf.e1e7f90f8ab736e1f893457a763cbf9d.jpg: 640x640 2 Puffy Eyes  - v3 Dark Circles, 11.4ms\n",
      "image 220/258 c:\\Users\\Dell\\Documents\\GitHub\\GlucoZap\\ml\\eye_dark_circles\\Dark-Circles-1\\valid\\images\\_1576907979566_jpg.rf.b8d44a05517f6800c134c1bfc6d876d5.jpg: 640x640 3 Puffy Eyes  - v3 Dark Circles, 10.6ms\n",
      "image 221/258 c:\\Users\\Dell\\Documents\\GitHub\\GlucoZap\\ml\\eye_dark_circles\\Dark-Circles-1\\valid\\images\\_1577702821773_jpg.rf.cd04332fba067ce3f05d17ac103bfc74.jpg: 640x640 3 Puffy Eyes  - v3 Dark Circles, 11.2ms\n",
      "image 222/258 c:\\Users\\Dell\\Documents\\GitHub\\GlucoZap\\ml\\eye_dark_circles\\Dark-Circles-1\\valid\\images\\_1578295986294_jpg.rf.baf40b5587e809df02713026511bca9b.jpg: 640x640 5 Puffy Eyes  - v3 Dark Circles, 10.9ms\n",
      "image 223/258 c:\\Users\\Dell\\Documents\\GitHub\\GlucoZap\\ml\\eye_dark_circles\\Dark-Circles-1\\valid\\images\\_1578635392179_jpg.rf.1f10c5301975da666432f5f246e1b43f.jpg: 640x640 2 Puffy Eyes  - v3 Dark Circles, 10.7ms\n",
      "image 224/258 c:\\Users\\Dell\\Documents\\GitHub\\GlucoZap\\ml\\eye_dark_circles\\Dark-Circles-1\\valid\\images\\_1578811081648_jpg.rf.5e7b79c516d852edb308f5ff9528824a.jpg: 640x640 2 Puffy Eyes  - v3 Dark Circles, 23.6ms\n",
      "image 225/258 c:\\Users\\Dell\\Documents\\GitHub\\GlucoZap\\ml\\eye_dark_circles\\Dark-Circles-1\\valid\\images\\_1578828644273_jpg.rf.dcd690c354a0df3afa69a97ff1cdeecb.jpg: 640x640 2 Puffy Eyes  - v3 Dark Circles, 10.7ms\n",
      "image 226/258 c:\\Users\\Dell\\Documents\\GitHub\\GlucoZap\\ml\\eye_dark_circles\\Dark-Circles-1\\valid\\images\\_1579001430328_jpg.rf.3f53156c0c91ad782074e24f1e66a9c9.jpg: 640x640 2 Puffy Eyes  - v3 Dark Circles, 13.3ms\n",
      "image 227/258 c:\\Users\\Dell\\Documents\\GitHub\\GlucoZap\\ml\\eye_dark_circles\\Dark-Circles-1\\valid\\images\\_1579272925219_jpg.rf.7e8f10ba94ec77fef52db5b104074ecf.jpg: 640x640 2 Puffy Eyes  - v3 Dark Circles, 10.6ms\n",
      "image 228/258 c:\\Users\\Dell\\Documents\\GitHub\\GlucoZap\\ml\\eye_dark_circles\\Dark-Circles-1\\valid\\images\\_1579354962687_jpg.rf.ec529de3ef2e0eb8e421c0105547254e.jpg: 640x640 2 Puffy Eyes  - v3 Dark Circles, 11.0ms\n",
      "image 229/258 c:\\Users\\Dell\\Documents\\GitHub\\GlucoZap\\ml\\eye_dark_circles\\Dark-Circles-1\\valid\\images\\_1579433225485_jpg.rf.fc6454450ca50fadb3d6796e191ccf2e.jpg: 640x640 3 Puffy Eyes  - v3 Dark Circles, 10.9ms\n",
      "image 230/258 c:\\Users\\Dell\\Documents\\GitHub\\GlucoZap\\ml\\eye_dark_circles\\Dark-Circles-1\\valid\\images\\_1579507520268_jpg.rf.b2aa2bf377b5ac0668b08607cfce4c63.jpg: 640x640 3 Puffy Eyes  - v3 Dark Circles, 13.7ms\n",
      "image 231/258 c:\\Users\\Dell\\Documents\\GitHub\\GlucoZap\\ml\\eye_dark_circles\\Dark-Circles-1\\valid\\images\\_1579612515596_jpg.rf.570c0337f215b803ddcae8350b44e411.jpg: 640x640 3 Puffy Eyes  - v3 Dark Circles, 12.0ms\n",
      "image 232/258 c:\\Users\\Dell\\Documents\\GitHub\\GlucoZap\\ml\\eye_dark_circles\\Dark-Circles-1\\valid\\images\\_1579613695500_jpg.rf.64d5251042707c34d581f3a1d30f5503.jpg: 640x640 2 Puffy Eyes  - v3 Dark Circles, 10.8ms\n",
      "image 233/258 c:\\Users\\Dell\\Documents\\GitHub\\GlucoZap\\ml\\eye_dark_circles\\Dark-Circles-1\\valid\\images\\_1579618324530_jpg.rf.25272b540f014b9491f57a08c09a38c4.jpg: 640x640 2 Puffy Eyes  - v3 Dark Circles, 11.3ms\n",
      "image 234/258 c:\\Users\\Dell\\Documents\\GitHub\\GlucoZap\\ml\\eye_dark_circles\\Dark-Circles-1\\valid\\images\\_1579932893545_jpg.rf.6f3bdd6b70c07d0fd8b434b6fd69f4c3.jpg: 640x640 2 Puffy Eyes  - v3 Dark Circles, 10.7ms\n",
      "image 235/258 c:\\Users\\Dell\\Documents\\GitHub\\GlucoZap\\ml\\eye_dark_circles\\Dark-Circles-1\\valid\\images\\_1579943238830_jpg.rf.6b4856c4f89adbbe152b0a9465cc1ddc.jpg: 640x640 4 Puffy Eyes  - v3 Dark Circles, 10.8ms\n",
      "image 236/258 c:\\Users\\Dell\\Documents\\GitHub\\GlucoZap\\ml\\eye_dark_circles\\Dark-Circles-1\\valid\\images\\_1579959514786_jpg.rf.78c28c682d99bebaff69839cd5388155.jpg: 640x640 2 Puffy Eyes  - v3 Dark Circles, 12.2ms\n",
      "image 237/258 c:\\Users\\Dell\\Documents\\GitHub\\GlucoZap\\ml\\eye_dark_circles\\Dark-Circles-1\\valid\\images\\_1580214530378_jpg.rf.91127ff1ddaf0cbe998c7e1fcdc80ad6.jpg: 640x640 3 Puffy Eyes  - v3 Dark Circles, 11.6ms\n",
      "image 238/258 c:\\Users\\Dell\\Documents\\GitHub\\GlucoZap\\ml\\eye_dark_circles\\Dark-Circles-1\\valid\\images\\_1580272954917_jpg.rf.a7178d8d0b556adb08a4df539280379b.jpg: 640x640 2 Puffy Eyes  - v3 Dark Circles, 11.2ms\n",
      "image 239/258 c:\\Users\\Dell\\Documents\\GitHub\\GlucoZap\\ml\\eye_dark_circles\\Dark-Circles-1\\valid\\images\\_1580725479030_jpg.rf.c471cfd8ced4441963041388f436f80e.jpg: 640x640 2 Puffy Eyes  - v3 Dark Circles, 10.6ms\n",
      "image 240/258 c:\\Users\\Dell\\Documents\\GitHub\\GlucoZap\\ml\\eye_dark_circles\\Dark-Circles-1\\valid\\images\\_1580883925029_jpg.rf.31aa240f25dbcea7104759dfd8e24731.jpg: 640x640 2 Puffy Eyes  - v3 Dark Circles, 11.5ms\n",
      "image 241/258 c:\\Users\\Dell\\Documents\\GitHub\\GlucoZap\\ml\\eye_dark_circles\\Dark-Circles-1\\valid\\images\\_1581062585749_jpg.rf.557f7602e29ec7247a678600cdd608bf.jpg: 640x640 2 Puffy Eyes  - v3 Dark Circles, 11.4ms\n",
      "image 242/258 c:\\Users\\Dell\\Documents\\GitHub\\GlucoZap\\ml\\eye_dark_circles\\Dark-Circles-1\\valid\\images\\_1581091268985_jpg.rf.6f7085e6218b584fda1d29cb3c5208d4.jpg: 640x640 2 Puffy Eyes  - v3 Dark Circles, 10.8ms\n",
      "image 243/258 c:\\Users\\Dell\\Documents\\GitHub\\GlucoZap\\ml\\eye_dark_circles\\Dark-Circles-1\\valid\\images\\_1581338475141_jpg.rf.9aa6f4846490926e290b84ece2010c35.jpg: 640x640 2 Puffy Eyes  - v3 Dark Circles, 10.9ms\n",
      "image 244/258 c:\\Users\\Dell\\Documents\\GitHub\\GlucoZap\\ml\\eye_dark_circles\\Dark-Circles-1\\valid\\images\\_1581689870284_jpg.rf.50bf7a1616a31d6ae1fc0ab46563545c.jpg: 640x640 2 Puffy Eyes  - v3 Dark Circles, 11.0ms\n",
      "image 245/258 c:\\Users\\Dell\\Documents\\GitHub\\GlucoZap\\ml\\eye_dark_circles\\Dark-Circles-1\\valid\\images\\_1581766410009_jpg.rf.410194bf529540a14f6b084645d27ee3.jpg: 640x640 4 Puffy Eyes  - v3 Dark Circles, 16.6ms\n",
      "image 246/258 c:\\Users\\Dell\\Documents\\GitHub\\GlucoZap\\ml\\eye_dark_circles\\Dark-Circles-1\\valid\\images\\_1581926940603_jpg.rf.ea578ee5944d21db0789ecc72a80050a.jpg: 640x640 2 Puffy Eyes  - v3 Dark Circles, 11.2ms\n",
      "image 247/258 c:\\Users\\Dell\\Documents\\GitHub\\GlucoZap\\ml\\eye_dark_circles\\Dark-Circles-1\\valid\\images\\_1581947901481_jpg.rf.64c9d347e373a2da171916725e622a0a.jpg: 640x640 3 Puffy Eyes  - v3 Dark Circles, 11.3ms\n",
      "image 248/258 c:\\Users\\Dell\\Documents\\GitHub\\GlucoZap\\ml\\eye_dark_circles\\Dark-Circles-1\\valid\\images\\_1582269682816_jpg.rf.84827eaa6e747494a3e452f71b058743.jpg: 640x640 2 Puffy Eyes  - v3 Dark Circles, 10.6ms\n",
      "image 249/258 c:\\Users\\Dell\\Documents\\GitHub\\GlucoZap\\ml\\eye_dark_circles\\Dark-Circles-1\\valid\\images\\_1582658070210_jpg.rf.a7b8914dff2f5a06a046b24639d6c0a8.jpg: 640x640 2 Puffy Eyes  - v3 Dark Circles, 11.0ms\n",
      "image 250/258 c:\\Users\\Dell\\Documents\\GitHub\\GlucoZap\\ml\\eye_dark_circles\\Dark-Circles-1\\valid\\images\\_1582798974917_jpg.rf.7c3d942f2e9dd7217327c588c231a2bc.jpg: 640x640 2 Puffy Eyes  - v3 Dark Circles, 11.2ms\n",
      "image 251/258 c:\\Users\\Dell\\Documents\\GitHub\\GlucoZap\\ml\\eye_dark_circles\\Dark-Circles-1\\valid\\images\\_1582960728025_jpg.rf.43d7b30717b623e1aacd49acb731354e.jpg: 640x640 2 Puffy Eyes  - v3 Dark Circles, 10.7ms\n",
      "image 252/258 c:\\Users\\Dell\\Documents\\GitHub\\GlucoZap\\ml\\eye_dark_circles\\Dark-Circles-1\\valid\\images\\_1583406321743_jpg.rf.4efa0a71f67d36f66d76c52d5996d769.jpg: 640x640 2 Puffy Eyes  - v3 Dark Circles, 11.6ms\n",
      "image 253/258 c:\\Users\\Dell\\Documents\\GitHub\\GlucoZap\\ml\\eye_dark_circles\\Dark-Circles-1\\valid\\images\\_1583413175405_jpg.rf.ed9eff9ae3f371bda60666dcbaa882e1.jpg: 640x640 3 Puffy Eyes  - v3 Dark Circles, 11.3ms\n",
      "image 254/258 c:\\Users\\Dell\\Documents\\GitHub\\GlucoZap\\ml\\eye_dark_circles\\Dark-Circles-1\\valid\\images\\_1583418337309_jpg.rf.fe8eb5f813509e393d2c81457924a861.jpg: 640x640 3 Puffy Eyes  - v3 Dark Circles, 11.2ms\n",
      "image 255/258 c:\\Users\\Dell\\Documents\\GitHub\\GlucoZap\\ml\\eye_dark_circles\\Dark-Circles-1\\valid\\images\\_1583488016832_jpg.rf.d6af4adca4bed7f092800f29dd08d0ed.jpg: 640x640 3 Puffy Eyes  - v3 Dark Circles, 11.3ms\n",
      "image 256/258 c:\\Users\\Dell\\Documents\\GitHub\\GlucoZap\\ml\\eye_dark_circles\\Dark-Circles-1\\valid\\images\\_1583571882285_jpg.rf.8eb7e4e0df770b9850ea9866828cfc5c.jpg: 640x640 3 Puffy Eyes  - v3 Dark Circles, 13.3ms\n",
      "image 257/258 c:\\Users\\Dell\\Documents\\GitHub\\GlucoZap\\ml\\eye_dark_circles\\Dark-Circles-1\\valid\\images\\_1583677908074_jpg.rf.a859b38857ed55157dcfd9b7f2d938ee.jpg: 640x640 1 Puffy Eyes  - v3 Dark Circle, 10.6ms\n",
      "image 258/258 c:\\Users\\Dell\\Documents\\GitHub\\GlucoZap\\ml\\eye_dark_circles\\Dark-Circles-1\\valid\\images\\_1583708622312_jpg.rf.8aa3f6f68a53376120c29a48dd457872.jpg: 640x640 2 Puffy Eyes  - v3 Dark Circles, 11.0ms\n",
      "Speed: 2.3ms preprocess, 11.5ms inference, 1.6ms postprocess per image at shape (1, 3, 640, 640)\n",
      "Results saved to \u001b[1mruns\\detect\\dark_circles_yolov113\u001b[0m\n"
     ]
    }
   ],
   "source": [
    "results = model.predict(source=\"Dark-Circles-1/valid/images\", save=True)\n"
   ]
  },
  {
   "cell_type": "code",
   "execution_count": null,
   "id": "977b369d",
   "metadata": {},
   "outputs": [
    {
     "name": "stdout",
     "output_type": "stream",
     "text": [
      "\n",
      "image 1/1 C:\\Users\\Dell\\Documents\\GitHub\\GlucoZap\\ml\\eye_dark_circles\\Dark-Circles-1\\test\\images\\_1577014777539_jpg.rf.7d2ec414155bc640a06128291f18dac1.jpg: 640x640 2 Puffy Eyes  - v3 Dark Circles, 11.5ms\n",
      "Speed: 1.7ms preprocess, 11.5ms inference, 1.2ms postprocess per image at shape (1, 3, 640, 640)\n"
     ]
    }
   ],
   "source": []
  },
  {
   "cell_type": "code",
   "execution_count": 10,
   "id": "00b7e71a",
   "metadata": {},
   "outputs": [
    {
     "name": "stdout",
     "output_type": "stream",
     "text": [
      "\n",
      "image 1/1 C:\\Users\\Dell\\Documents\\GitHub\\GlucoZap\\ml\\eye_dark_circles\\Dark-Circles-1\\test\\images\\_1577014777539_jpg.rf.7d2ec414155bc640a06128291f18dac1.jpg: 640x640 2 Puffy Eyes  - v3 Dark Circles, 64.4ms\n",
      "Speed: 7.2ms preprocess, 64.4ms inference, 2.2ms postprocess per image at shape (1, 3, 640, 640)\n"
     ]
    },
    {
     "data": {
      "text/plain": [
       "<Figure size 1200x800 with 2 Axes>"
      ]
     },
     "metadata": {},
     "output_type": "display_data"
    },
    {
     "name": "stdout",
     "output_type": "stream",
     "text": [
      "\n",
      "Detections found: 2\n",
      "Detection 1: Puffy Eyes  - v3 Dark Circle (confidence: 0.64)\n",
      "Detection 2: Puffy Eyes  - v3 Dark Circle (confidence: 0.50)\n"
     ]
    }
   ],
   "source": [
    "from ultralytics import YOLO\n",
    "import matplotlib.pyplot as plt\n",
    "from PIL import Image\n",
    "\n",
    "# Load trained model\n",
    "model = YOLO(\"runs/detect/dark_circles_yolov11/weights/best.pt\")\n",
    "\n",
    "# Path to test image\n",
    "image_path = r\"C:\\Users\\Dell\\Documents\\GitHub\\GlucoZap\\ml\\eye_dark_circles\\Dark-Circles-1\\test\\images\\_1577014777539_jpg.rf.7d2ec414155bc640a06128291f18dac1.jpg\"\n",
    "\n",
    "# Run prediction\n",
    "results = model(image_path)\n",
    "\n",
    "# Plot side-by-side Original and Prediction\n",
    "plt.figure(figsize=(12, 8))\n",
    "\n",
    "# Original Image\n",
    "plt.subplot(1, 2, 1)\n",
    "img = Image.open(image_path)\n",
    "plt.imshow(img)\n",
    "plt.title(\"Original Image\")\n",
    "plt.axis('off')\n",
    "\n",
    "# Prediction with bounding boxes\n",
    "plt.subplot(1, 2, 2)\n",
    "result_img = results[0].plot()  # returns numpy array with boxes\n",
    "plt.imshow(result_img)\n",
    "plt.title(\"Prediction\")\n",
    "plt.axis('off')\n",
    "\n",
    "plt.tight_layout()\n",
    "plt.show()\n",
    "\n",
    "# Print detected objects\n",
    "for r in results:\n",
    "    print(f\"\\nDetections found: {len(r.boxes)}\")\n",
    "    if len(r.boxes) > 0:\n",
    "        for i, box in enumerate(r.boxes):\n",
    "            cls = int(box.cls[0])\n",
    "            conf = float(box.conf[0])\n",
    "            class_name = model.names[cls]\n",
    "            print(f\"Detection {i+1}: {class_name} (confidence: {conf:.2f})\")\n",
    "    else:\n",
    "        print(\"No detections found\")\n"
   ]
  },
  {
   "cell_type": "code",
   "execution_count": null,
   "id": "f7d2de10",
   "metadata": {},
   "outputs": [
    {
     "name": "stdout",
     "output_type": "stream",
     "text": [
      "\n",
      "image 1/1 C:\\Users\\Dell\\Documents\\GitHub\\GlucoZap\\ml\\eye_dark_circles\\Dark-Circles-1\\test\\images\\_1577014777539_jpg.rf.7d2ec414155bc640a06128291f18dac1.jpg: 640x640 2 Puffy Eyes  - v3 Dark Circles, 12.9ms\n",
      "Speed: 2.2ms preprocess, 12.9ms inference, 1.1ms postprocess per image at shape (1, 3, 640, 640)\n"
     ]
    },
    {
     "data": {
      "text/plain": [
       "<Figure size 800x800 with 1 Axes>"
      ]
     },
     "metadata": {},
     "output_type": "display_data"
    },
    {
     "name": "stdout",
     "output_type": "stream",
     "text": [
      "\n",
      "Detections found: 2\n",
      "Detection 1: Puffy Eyes  - v3 Dark Circle (confidence: 0.64)\n",
      "Detection 2: Puffy Eyes  - v3 Dark Circle (confidence: 0.50)\n"
     ]
    }
   ],
   "source": [
    "from ultralytics import YOLO\n",
    "import matplotlib.pyplot as plt\n",
    "from PIL import Image\n",
    "import cv2\n",
    "\n",
    "model = YOLO(\"runs/detect/dark_circles_yolov11/weights/best.pt\")\n",
    "\n",
    "image_path = r\"C:\\Users\\Dell\\Documents\\GitHub\\GlucoZap\\ml\\eye_dark_circles\\Dark-Circles-1\\test\\images\\_1577014777539_jpg.rf.7d2ec414155bc640a06128291f18dac1.jpg\"\n",
    "\n",
    "results = model(image_path)\n",
    "\n",
    "result_img = results[0].plot()\n",
    "result_img = cv2.cvtColor(result_img, cv2.COLOR_BGR2RGB)\n",
    "\n",
    "plt.figure(figsize=(8, 8))\n",
    "plt.imshow(result_img)\n",
    "plt.title(\"Prediction with Bounding Boxes\")\n",
    "plt.axis(\"off\")\n",
    "plt.show(block=True)\n",
    "\n",
    "for r in results:\n",
    "    print(f\"\\nDetections found: {len(r.boxes)}\")\n",
    "    for i, box in enumerate(r.boxes):\n",
    "        cls = int(box.cls[0])\n",
    "        conf = float(box.conf[0])\n",
    "        class_name = model.names[cls]\n",
    "        print(f\"Detection {i+1}: {class_name} (confidence: {conf:.2f})\")\n"
   ]
  },
  {
   "cell_type": "code",
   "execution_count": null,
   "id": "a5c9c22d",
   "metadata": {},
   "outputs": [],
   "source": []
  }
 ],
 "metadata": {
  "kernelspec": {
   "display_name": "gpu",
   "language": "python",
   "name": "python3"
  },
  "language_info": {
   "codemirror_mode": {
    "name": "ipython",
    "version": 3
   },
   "file_extension": ".py",
   "mimetype": "text/x-python",
   "name": "python",
   "nbconvert_exporter": "python",
   "pygments_lexer": "ipython3",
   "version": "3.9.13"
  }
 },
 "nbformat": 4,
 "nbformat_minor": 5
}
